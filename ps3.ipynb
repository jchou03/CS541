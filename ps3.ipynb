{
 "cells": [
  {
   "cell_type": "markdown",
   "id": "RtyaMANFEZKH",
   "metadata": {
    "id": "RtyaMANFEZKH"
   },
   "source": [
    "# CS541: Applied Machine Learning, Fall 2024, Problem Set 3\n",
    "### _Note: Do not delete or add blocks, do not change the function names. If you do this the autograder won't run properly and you might get a 0. Avoid using global variables inside your function. Failing to define your variables correctly could result in a score of 0._\n",
    "\n",
    "Problem set 3 is due in Gradescope on **Oct 22 at 11:59pm**.\n",
    "All the questions are in this jupyter notebook file. There are four questions in this assignment, each of which could have multiple parts and consists of a mix of coding and short answer questions. This assignment is worth a total of **100 points** (**73 pts** coding, and **27 pts** short answer).  Note that each individual pset contributes the same amount to the final grade regardless of the number of points it is worth.\n",
    "\n",
    "After completing these questions you will need to covert this notebook into a .py file named **ps3.py** and a pdf file named **ps3.pdf** in order to submit it (details below).\n",
    "\n",
    "**Submission instructions:** please upload your completed solution files to Gradescope by the due date. **Make sure you have run all code cells and rendered all markdown/Latex without any errors.**\n",
    "\n",
    "There will be two separate submission links for the assignment:\n",
    "1. Submit **ps3.py** to `PS3-Code`\n",
    "2. Submit a single `.pdf` report that contains your work for all written questions to `PS3`. You can type your responses in LaTeX, or any other word processing software.  You can also hand write them on a tablet, or scan in hand-written answers. If you hand-write, please make sure they are neat and legible. If you are scanning, make sure that the scans are legible. Lastly, convert your work into a `PDF`. You can use Jupyter Notebook to convert the formats:\n",
    "  + Convert to PDF file: Go to File->Download as->PDF\n",
    "  + Convert py file: Go to File->Download as->py\\\n",
    "You can take a look at an example [here](https://raw.githubusercontent.com/chaudatascience/cs599_fall2022/master/ps1/convert_py.gif)\n",
    "\n",
    "  Your written responses in the PDF report should be self-contained. It should include all the output you want us to look at. You will not receive credit for any results you have obtained, but failed to include directly in the PDF report file.  Please tag the reponses in your PDF with the Gradescope questions outline  as described in [Submitting an Assignment](https://youtu.be/u-pK4GzpId0).\n",
    "  \n"
   ]
  },
  {
   "cell_type": "markdown",
   "id": "a636aea4",
   "metadata": {
    "id": "a636aea4",
    "tags": []
   },
   "source": [
    "**Assignment Setup**\n",
    "\n",
    "You are strongly encouraged to use [Google Colab](https://colab.research.google.com/) for this assignment.\n",
    "\n",
    "If you would prefer to setup your code locally on your own machine, you will need [Jupyter Notebook](https://jupyter.org/install#jupyter-notebook) or [JupyterLab](https://jupyter.org/install#jupyterlab) installation. One way to set it up is to install “Anaconda” distribution, which has Python (you should install python version >= 3.9 as this notebook is tested with python 3.9), several libraries including the Jupyter Notebook that we will use in class. It is available for Windows, Linux, and Mac OS X [here](https://docs.conda.io/en/latest/miniconda.html).\n",
    "\n",
    "If you are not familiar with Jupyter Notebook, you can follow [this blog](https://realpython.com/jupyter-notebook-introduction/) for an introduction.  After developing your code using Jupyter, you are encouraged to test it on Google Colab to ensure it works in both settings.\n",
    "\n",
    "\n",
    "You cannot use packages other than the ones already imported in this assignment.\n"
   ]
  },
  {
   "cell_type": "markdown",
   "id": "5d1e0656",
   "metadata": {},
   "source": [
    "**Jupyter Tip 1**: To run a cell, press `Shift+Enter` or click on \"play\" button above. To edit any code or text cell [double] click on its content. To change cell type, choose \"Markdown\" or \"Code\" in the drop-down menu above.\n"
   ]
  },
  {
   "cell_type": "markdown",
   "id": "487a798b",
   "metadata": {},
   "source": [
    "**Jupyter Tip 2**: Use shortcut \"Shift + Tab\" to show the documentation of a function in Jupyter Notebook/ Jupterlab. Press Shift then double Tab (i.e., press Tab twice) to show the full documentation.\\\n",
    "For example, type `sum(` then Shift + Tab to show the documentation for the function, as shown in this the picture below."
   ]
  },
  {
   "cell_type": "code",
   "execution_count": 3,
   "id": "457fa897",
   "metadata": {},
   "outputs": [],
   "source": [
    "## import some libraries\n",
    "import sklearn\n",
    "from sklearn import datasets\n",
    "import numpy as np\n",
    "from typing import Tuple, List, Dict\n",
    "import pandas as pd\n",
    "import matplotlib.pyplot as plt\n",
    "import seaborn as sns\n",
    "from sklearn.preprocessing import StandardScaler\n",
    "from sklearn.model_selection import cross_val_score, train_test_split\n",
    "from sklearn.metrics import mean_squared_error\n",
    "from scipy.spatial.distance import cdist\n",
    "from sklearn.tree import DecisionTreeRegressor\n",
    "from sklearn import tree\n",
    "from tqdm import tqdm"
   ]
  },
  {
   "cell_type": "markdown",
   "id": "AEWiGFpCkK65",
   "metadata": {
    "id": "AEWiGFpCkK65"
   },
   "source": [
    "# **Question 1.** Linear Regression (*15 total points*)"
   ]
  },
  {
   "cell_type": "markdown",
   "id": "8c8b190b",
   "metadata": {
    "id": "8c8b190b"
   },
   "source": [
    "## **1.1 Code:** Linear Regression using Sklearn *(5 pts)*"
   ]
  },
  {
   "cell_type": "markdown",
   "id": "AmQUHlOraxsR",
   "metadata": {
    "id": "AmQUHlOraxsR"
   },
   "source": [
    "In this section, we will work with a demo dataset. The data consists of 2 columns: `hours_practice` (number of hours to practice) and `score`."
   ]
  },
  {
   "cell_type": "code",
   "execution_count": null,
   "id": "EKz_mrMyYfRI",
   "metadata": {
    "colab": {
     "base_uri": "https://localhost:8080/",
     "height": 192
    },
    "executionInfo": {
     "elapsed": 17,
     "status": "ok",
     "timestamp": 1664909163801,
     "user": {
      "displayName": "Chau Pham",
      "userId": "15632370410542428059"
     },
     "user_tz": 240
    },
    "id": "EKz_mrMyYfRI",
    "outputId": "eb9b1c3b-9c6f-4cd6-82a0-63d8f0905133"
   },
   "outputs": [
    {
     "name": "stdout",
     "output_type": "stream",
     "text": [
      "data shape: (100, 2)\n"
     ]
    },
    {
     "data": {
      "text/html": [
       "\n",
       "  <div id=\"df-bb7305d7-7585-4b3a-829f-31c832dd06ca\">\n",
       "    <div class=\"colab-df-container\">\n",
       "      <div>\n",
       "<style scoped>\n",
       "    .dataframe tbody tr th:only-of-type {\n",
       "        vertical-align: middle;\n",
       "    }\n",
       "\n",
       "    .dataframe tbody tr th {\n",
       "        vertical-align: top;\n",
       "    }\n",
       "\n",
       "    .dataframe thead th {\n",
       "        text-align: right;\n",
       "    }\n",
       "</style>\n",
       "<table border=\"1\" class=\"dataframe\">\n",
       "  <thead>\n",
       "    <tr style=\"text-align: right;\">\n",
       "      <th></th>\n",
       "      <th>hours_practice</th>\n",
       "      <th>score</th>\n",
       "    </tr>\n",
       "  </thead>\n",
       "  <tbody>\n",
       "    <tr>\n",
       "      <th>67</th>\n",
       "      <td>57.362052</td>\n",
       "      <td>95.536687</td>\n",
       "    </tr>\n",
       "    <tr>\n",
       "      <th>80</th>\n",
       "      <td>56.901215</td>\n",
       "      <td>80.207523</td>\n",
       "    </tr>\n",
       "    <tr>\n",
       "      <th>77</th>\n",
       "      <td>36.930077</td>\n",
       "      <td>55.231661</td>\n",
       "    </tr>\n",
       "    <tr>\n",
       "      <th>34</th>\n",
       "      <td>57.504448</td>\n",
       "      <td>74.084130</td>\n",
       "    </tr>\n",
       "  </tbody>\n",
       "</table>\n",
       "</div>\n",
       "      <button class=\"colab-df-convert\" onclick=\"convertToInteractive('df-bb7305d7-7585-4b3a-829f-31c832dd06ca')\"\n",
       "              title=\"Convert this dataframe to an interactive table.\"\n",
       "              style=\"display:none;\">\n",
       "        \n",
       "  <svg xmlns=\"http://www.w3.org/2000/svg\" height=\"24px\"viewBox=\"0 0 24 24\"\n",
       "       width=\"24px\">\n",
       "    <path d=\"M0 0h24v24H0V0z\" fill=\"none\"/>\n",
       "    <path d=\"M18.56 5.44l.94 2.06.94-2.06 2.06-.94-2.06-.94-.94-2.06-.94 2.06-2.06.94zm-11 1L8.5 8.5l.94-2.06 2.06-.94-2.06-.94L8.5 2.5l-.94 2.06-2.06.94zm10 10l.94 2.06.94-2.06 2.06-.94-2.06-.94-.94-2.06-.94 2.06-2.06.94z\"/><path d=\"M17.41 7.96l-1.37-1.37c-.4-.4-.92-.59-1.43-.59-.52 0-1.04.2-1.43.59L10.3 9.45l-7.72 7.72c-.78.78-.78 2.05 0 2.83L4 21.41c.39.39.9.59 1.41.59.51 0 1.02-.2 1.41-.59l7.78-7.78 2.81-2.81c.8-.78.8-2.07 0-2.86zM5.41 20L4 18.59l7.72-7.72 1.47 1.35L5.41 20z\"/>\n",
       "  </svg>\n",
       "      </button>\n",
       "      \n",
       "  <style>\n",
       "    .colab-df-container {\n",
       "      display:flex;\n",
       "      flex-wrap:wrap;\n",
       "      gap: 12px;\n",
       "    }\n",
       "\n",
       "    .colab-df-convert {\n",
       "      background-color: #E8F0FE;\n",
       "      border: none;\n",
       "      border-radius: 50%;\n",
       "      cursor: pointer;\n",
       "      display: none;\n",
       "      fill: #1967D2;\n",
       "      height: 32px;\n",
       "      padding: 0 0 0 0;\n",
       "      width: 32px;\n",
       "    }\n",
       "\n",
       "    .colab-df-convert:hover {\n",
       "      background-color: #E2EBFA;\n",
       "      box-shadow: 0px 1px 2px rgba(60, 64, 67, 0.3), 0px 1px 3px 1px rgba(60, 64, 67, 0.15);\n",
       "      fill: #174EA6;\n",
       "    }\n",
       "\n",
       "    [theme=dark] .colab-df-convert {\n",
       "      background-color: #3B4455;\n",
       "      fill: #D2E3FC;\n",
       "    }\n",
       "\n",
       "    [theme=dark] .colab-df-convert:hover {\n",
       "      background-color: #434B5C;\n",
       "      box-shadow: 0px 1px 3px 1px rgba(0, 0, 0, 0.15);\n",
       "      filter: drop-shadow(0px 1px 2px rgba(0, 0, 0, 0.3));\n",
       "      fill: #FFFFFF;\n",
       "    }\n",
       "  </style>\n",
       "\n",
       "      <script>\n",
       "        const buttonEl =\n",
       "          document.querySelector('#df-bb7305d7-7585-4b3a-829f-31c832dd06ca button.colab-df-convert');\n",
       "        buttonEl.style.display =\n",
       "          google.colab.kernel.accessAllowed ? 'block' : 'none';\n",
       "\n",
       "        async function convertToInteractive(key) {\n",
       "          const element = document.querySelector('#df-bb7305d7-7585-4b3a-829f-31c832dd06ca');\n",
       "          const dataTable =\n",
       "            await google.colab.kernel.invokeFunction('convertToInteractive',\n",
       "                                                     [key], {});\n",
       "          if (!dataTable) return;\n",
       "\n",
       "          const docLinkHtml = 'Like what you see? Visit the ' +\n",
       "            '<a target=\"_blank\" href=https://colab.research.google.com/notebooks/data_table.ipynb>data table notebook</a>'\n",
       "            + ' to learn more about interactive tables.';\n",
       "          element.innerHTML = '';\n",
       "          dataTable['output_type'] = 'display_data';\n",
       "          await google.colab.output.renderOutput(dataTable, element);\n",
       "          const docLink = document.createElement('div');\n",
       "          docLink.innerHTML = docLinkHtml;\n",
       "          element.appendChild(docLink);\n",
       "        }\n",
       "      </script>\n",
       "    </div>\n",
       "  </div>\n",
       "  "
      ],
      "text/plain": [
       "    hours_practice      score\n",
       "67       57.362052  95.536687\n",
       "80       56.901215  80.207523\n",
       "77       36.930077  55.231661\n",
       "34       57.504448  74.084130"
      ]
     },
     "execution_count": 15,
     "metadata": {},
     "output_type": "execute_result"
    }
   ],
   "source": [
    "## Read the dataset\n",
    "df = pd.read_csv(\"https://raw.githubusercontent.com/chaudatascience/cs599_fall2022/master/ps3/linear_data.csv\")\n",
    "print(\"data shape:\", df.shape)\n",
    "df.sample(4)"
   ]
  },
  {
   "cell_type": "code",
   "execution_count": null,
   "id": "53ee3b8b",
   "metadata": {
    "id": "53ee3b8b"
   },
   "outputs": [],
   "source": [
    "## Extract features and labels as numpy arrays\n",
    "X = df.values[:,0:1]  # features\n",
    "y = df.values[:,1]  # labels"
   ]
  },
  {
   "cell_type": "code",
   "execution_count": null,
   "id": "ip88NQ6emjrS",
   "metadata": {
    "colab": {
     "base_uri": "https://localhost:8080/",
     "height": 297
    },
    "executionInfo": {
     "elapsed": 16,
     "status": "ok",
     "timestamp": 1664909163803,
     "user": {
      "displayName": "Chau Pham",
      "userId": "15632370410542428059"
     },
     "user_tz": 240
    },
    "id": "ip88NQ6emjrS",
    "outputId": "c0cce092-4261-4490-9676-f1b63246552f"
   },
   "outputs": [
    {
     "data": {
      "text/plain": [
       "<matplotlib.axes._subplots.AxesSubplot at 0x7fed12ea5690>"
      ]
     },
     "execution_count": 17,
     "metadata": {},
     "output_type": "execute_result"
    },
    {
     "data": {
      "image/png": "[encoded data removed]",
      "text/plain": [
       "<Figure size 432x288 with 1 Axes>"
      ]
     },
     "metadata": {
      "needs_background": "light"
     },
     "output_type": "display_data"
    }
   ],
   "source": [
    "## Plot the dataset\n",
    "sns.scatterplot(data=df, x=\"hours_practice\", y=\"score\")"
   ]
  },
  {
   "cell_type": "markdown",
   "id": "a688e300",
   "metadata": {
    "id": "a688e300"
   },
   "source": [
    "In this section, we will train a Linear Regression model on the dataset using Sklearn.\n",
    "You can refer to the document of Linear Regression [here](https://scikit-learn.org/stable/modules/generated/sklearn.linear_model.LinearRegression.html)."
   ]
  },
  {
   "cell_type": "code",
   "execution_count": null,
   "id": "73dcaaac",
   "metadata": {
    "id": "73dcaaac"
   },
   "outputs": [],
   "source": [
    "from sklearn.linear_model import LinearRegression\n",
    "\n",
    "def question_1_1(X: np.ndarray, y: np.ndarray) -> LinearRegression:\n",
    "    \"\"\"\n",
    "    Train a Sklearn's Linear Regression model on features `X` and labels `y`.\n",
    "    X: 2d numpy array, shape of (num_samples, feat_dim)\n",
    "    y: numpy array, shape of (num_samples, )\n",
    "    return a trained Linear Regression model\n",
    "    \n",
    "    \"\"\"\n",
    "    # Write your code in this block -----------------------------------------------------------\n",
    "\n",
    "\n",
    "\n",
    "    # End of your code -----------------------------------------------------------\n",
    "\n",
    "    return model\n"
   ]
  },
  {
   "cell_type": "code",
   "execution_count": null,
   "id": "5e077ff2",
   "metadata": {
    "colab": {
     "base_uri": "https://localhost:8080/",
     "height": 370
    },
    "executionInfo": {
     "elapsed": 442,
     "status": "ok",
     "timestamp": 1664909164234,
     "user": {
      "displayName": "Chau Pham",
      "userId": "15632370410542428059"
     },
     "user_tz": 240
    },
    "id": "5e077ff2",
    "outputId": "6611530f-7039-4c97-e7e8-c3b2fff52f71"
   },
   "outputs": [
    {
     "name": "stdout",
     "output_type": "stream",
     "text": [
      "Model slope:     [1.32243102]\n",
      "Model intercept: 7.991020982270399\n"
     ]
    },
    {
     "data": {
      "image/png": "[encoded data removed]",
      "text/plain": [
       "<Figure size 720x360 with 1 Axes>"
      ]
     },
     "metadata": {
      "needs_background": "light"
     },
     "output_type": "display_data"
    }
   ],
   "source": [
    "## Test your model\n",
    "\n",
    "\n",
    "def plot_model(linear_model, X, y, start, end):\n",
    "    print(\"Model slope:    \", linear_model.coef_)\n",
    "    print(\"Model intercept:\", linear_model.intercept_)\n",
    "\n",
    "\n",
    "    xfit = np.linspace(start, end, 500)[:, np.newaxis]\n",
    "    if len(linear_model.coef_) == 2:\n",
    "        xfit = np.concatenate([xfit, xfit**2], axis=1)\n",
    "    yfit = linear_model.predict(xfit)\n",
    "    \n",
    "    plt.figure(figsize=(10,5))\n",
    "    plt.scatter(X[:,0], y, s=5)\n",
    "    plt.xlabel(\"hours_practice\")\n",
    "    plt.ylabel(\"score\")\n",
    "    plt.plot(xfit[:,0], yfit, 'r+')\n",
    "\n",
    "# Get your model\n",
    "linear_model = question_1_1(X, y)\n",
    "\n",
    "# Plot: Your regression line is the red line as shown below\n",
    "start, end = 20, 80  # start and end of the line\n",
    "plot_model(linear_model, X, y, start, end)"
   ]
  },
  {
   "cell_type": "markdown",
   "id": "022a50c6",
   "metadata": {
    "id": "022a50c6"
   },
   "source": [
    "## **1.2 Code:** Polynomial features *(5 pts)*"
   ]
  },
  {
   "cell_type": "markdown",
   "id": "3112db28",
   "metadata": {
    "id": "3112db28"
   },
   "source": [
    "Let's take a look at another demo dataset"
   ]
  },
  {
   "cell_type": "code",
   "execution_count": null,
   "id": "9aafcc36",
   "metadata": {
    "colab": {
     "base_uri": "https://localhost:8080/",
     "height": 337
    },
    "executionInfo": {
     "elapsed": 309,
     "status": "ok",
     "timestamp": 1664909164537,
     "user": {
      "displayName": "Chau Pham",
      "userId": "15632370410542428059"
     },
     "user_tz": 240
    },
    "id": "9aafcc36",
    "outputId": "f425e675-911a-4fe2-f478-7c014b8b65e4"
   },
   "outputs": [
    {
     "data": {
      "text/plain": [
       "<matplotlib.collections.PathCollection at 0x7fed12b92810>"
      ]
     },
     "execution_count": 20,
     "metadata": {},
     "output_type": "execute_result"
    },
    {
     "data": {
      "image/png": "[encoded data removed]",
      "text/plain": [
       "<Figure size 720x360 with 1 Axes>"
      ]
     },
     "metadata": {
      "needs_background": "light"
     },
     "output_type": "display_data"
    }
   ],
   "source": [
    "data = pd.read_csv(\"https://raw.githubusercontent.com/chaudatascience/cs599_fall2022/master/ps3/polynomial.csv\").values\n",
    "X2, y2 = data[:,:1], data[:,1]\n",
    "plt.figure(figsize=(10,5))\n",
    "plt.scatter(X2, y2, s=8)"
   ]
  },
  {
   "cell_type": "markdown",
   "id": "fc7a075f",
   "metadata": {
    "id": "fc7a075f"
   },
   "source": [
    "We can see that the dataset is not linear. In other words, using a line can not capture the pattern in the data, resulting in underfitting. To solve this, we need to make our model a bit more complex.\n",
    "\n",
    "There is a trick we can use to capture nonlinear relationships between variables: We first transform existing feature by some basic function, then use the generated data as new feature.\n",
    "\n",
    "For example, with a linear regression for 1-d feature $x$: \n",
    "\n",
    "$$Y=\\theta_0+\\theta_1 x$$\n",
    "\n",
    "We can transform the input feature $x$ to get a new feature, such as $x$ squared and consider it as a new feature.\n",
    "We now have 2 features, and the model becomes polynomial regression:\n",
    "\n",
    "$$Y=\\theta_0+\\theta_1 x+\\theta_2 x^2$$\n",
    "\n",
    "We can keep adding: $$Y=\\theta_0+\\theta_1 x+\\theta_2 x^2+ \\theta_3 x^3 + ....$$ to get even more complex model."
   ]
  },
  {
   "cell_type": "markdown",
   "id": "e0f4a058",
   "metadata": {
    "id": "e0f4a058"
   },
   "source": [
    "You will need to write a function to concatenate $X^2$ as a feature alongside X. So, now, the training data `X_new` will have X and $X^2$ as the features"
   ]
  },
  {
   "cell_type": "code",
   "execution_count": null,
   "id": "faf0ee0c",
   "metadata": {
    "colab": {
     "base_uri": "https://localhost:8080/"
    },
    "executionInfo": {
     "elapsed": 14,
     "status": "ok",
     "timestamp": 1664909164537,
     "user": {
      "displayName": "Chau Pham",
      "userId": "15632370410542428059"
     },
     "user_tz": 240
    },
    "id": "faf0ee0c",
    "outputId": "ef87a461-f413-4bb4-cd1f-bba86475ad0e"
   },
   "outputs": [
    {
     "name": "stdout",
     "output_type": "stream",
     "text": [
      "X_new.shape (100, 2)\n",
      "[[-3.29215704 10.83829796]\n",
      " [ 0.79952837  0.63924562]\n",
      " [-0.93621395  0.87649656]\n",
      " [-4.7226796  22.30370258]\n",
      " [-3.60267397 12.97925974]]\n"
     ]
    }
   ],
   "source": [
    "def question_1_2(X: np.ndarray) -> np.ndarray:\n",
    "    \"\"\"\n",
    "        Given numpy array X, shape of (num_sample, 1).\n",
    "        Return a numpy array, shape of (num_sample, 2) by adding a new column to the right of X.\n",
    "        The new column is the square of the existing column in X\n",
    "    \"\"\"\n",
    "    # Write your code in this block -----------------------------------------------------------\n",
    "\n",
    "\n",
    "\n",
    "\n",
    "    # End of your code -----------------------------------------------------------\n",
    "  \n",
    "    \n",
    "## Test your function \n",
    "X_new = question_1_2(X2)\n",
    "print(\"X_new.shape\", X_new.shape) \n",
    "print(X_new[:5]) # show the first 5 samples"
   ]
  },
  {
   "cell_type": "code",
   "execution_count": null,
   "id": "21a2cd79",
   "metadata": {
    "colab": {
     "base_uri": "https://localhost:8080/",
     "height": 370
    },
    "executionInfo": {
     "elapsed": 13,
     "status": "ok",
     "timestamp": 1664909164540,
     "user": {
      "displayName": "Chau Pham",
      "userId": "15632370410542428059"
     },
     "user_tz": 240
    },
    "id": "21a2cd79",
    "outputId": "ac8fb0e4-f1c5-4785-e0f2-27b30bcad9ec"
   },
   "outputs": [
    {
     "name": "stdout",
     "output_type": "stream",
     "text": [
      "Model slope:     [2.60168213 2.76791169]\n",
      "Model intercept: -20.63185125272492\n"
     ]
    },
    {
     "data": {
      "image/png": "[encoded data removed]",
      "text/plain": [
       "<Figure size 720x360 with 1 Axes>"
      ]
     },
     "metadata": {
      "needs_background": "light"
     },
     "output_type": "display_data"
    }
   ],
   "source": [
    "## Plot the new model (in red)\n",
    "new_linear_model = question_1_1(X_new, y2)\n",
    "plot_model(new_linear_model, X_new, y2, start=-5, end=12)"
   ]
  },
  {
   "cell_type": "markdown",
   "id": "5a7c9421",
   "metadata": {
    "id": "5a7c9421"
   },
   "source": [
    "We can see the curve fits the data much better than a straight line."
   ]
  },
  {
   "cell_type": "markdown",
   "id": "c1a05349",
   "metadata": {
    "id": "c1a05349"
   },
   "source": [
    "## **1.3 Short answer:**  Linear model *(5 pts)*\n",
    "**Question:** \n",
    "    What is the shape of the curve (linear, or non-linear?)\n",
    "    Is the model still considered to be a linear model?"
   ]
  },
  {
   "cell_type": "markdown",
   "id": "0ed25db3",
   "metadata": {
    "id": "0ed25db3"
   },
   "source": [
    "Write your answer in this block\n",
    "\n",
    "**Your Answer:**\n"
   ]
  },
  {
   "cell_type": "markdown",
   "id": "8191cbb6",
   "metadata": {
    "id": "8191cbb6"
   },
   "source": [
    "# Question 2. Linear Regression with Regularization *(15 total points*)"
   ]
  },
  {
   "cell_type": "markdown",
   "id": "3e9bec4b",
   "metadata": {
    "id": "3e9bec4b"
   },
   "source": [
    "With basis functions, our model become more flexible, but it comes with a cost: The model is easier to over-fitting. One way to reduce overfitting is to penalize higher degree polynomials. This ensures that we only use the higher degree polynomials if the error is significantly reduced compared to a simpler model.\n",
    "\n",
    "In this section, we will work on Boston Housing dataset. This dataset was taken from the [StatLib library](http://lib.stat.cmu.edu/datasets/) which is maintained at Carnegie Mellon University. It consists of 13 continous features and a numerical target named *MEDV*. For more details about the dataset, you can refer [this link](https://raw.githubusercontent.com/chaudatascience/cs599_fall2022/master/ps3/boston_housing_name.txt).\n",
    "\n",
    "Our goal is to train a linear regression model with regularization to learn the relationship between suburb characteristics and house prices.\n"
   ]
  },
  {
   "cell_type": "code",
   "execution_count": null,
   "id": "1337c79a",
   "metadata": {
    "colab": {
     "base_uri": "https://localhost:8080/",
     "height": 223
    },
    "executionInfo": {
     "elapsed": 341,
     "status": "ok",
     "timestamp": 1664909164871,
     "user": {
      "displayName": "Chau Pham",
      "userId": "15632370410542428059"
     },
     "user_tz": 240
    },
    "id": "1337c79a",
    "outputId": "1e796d05-15e4-4978-ecf1-287ba8769bd8"
   },
   "outputs": [
    {
     "name": "stdout",
     "output_type": "stream",
     "text": [
      "df.shape (506, 14)\n"
     ]
    },
    {
     "data": {
      "text/html": [
       "\n",
       "  <div id=\"df-0e149f32-75f3-4762-8673-e88b9df728d3\">\n",
       "    <div class=\"colab-df-container\">\n",
       "      <div>\n",
       "<style scoped>\n",
       "    .dataframe tbody tr th:only-of-type {\n",
       "        vertical-align: middle;\n",
       "    }\n",
       "\n",
       "    .dataframe tbody tr th {\n",
       "        vertical-align: top;\n",
       "    }\n",
       "\n",
       "    .dataframe thead th {\n",
       "        text-align: right;\n",
       "    }\n",
       "</style>\n",
       "<table border=\"1\" class=\"dataframe\">\n",
       "  <thead>\n",
       "    <tr style=\"text-align: right;\">\n",
       "      <th></th>\n",
       "      <th>CRIM</th>\n",
       "      <th>ZN</th>\n",
       "      <th>INDUS</th>\n",
       "      <th>CHAS</th>\n",
       "      <th>NOX</th>\n",
       "      <th>RM</th>\n",
       "      <th>AGE</th>\n",
       "      <th>DIS</th>\n",
       "      <th>RAD</th>\n",
       "      <th>TAX</th>\n",
       "      <th>PTRATIO</th>\n",
       "      <th>B</th>\n",
       "      <th>LSTAT</th>\n",
       "      <th>MEDV</th>\n",
       "    </tr>\n",
       "  </thead>\n",
       "  <tbody>\n",
       "    <tr>\n",
       "      <th>486</th>\n",
       "      <td>5.69175</td>\n",
       "      <td>0.0</td>\n",
       "      <td>18.10</td>\n",
       "      <td>0</td>\n",
       "      <td>0.583</td>\n",
       "      <td>6.114</td>\n",
       "      <td>79.8</td>\n",
       "      <td>3.5459</td>\n",
       "      <td>24</td>\n",
       "      <td>666.0</td>\n",
       "      <td>20.2</td>\n",
       "      <td>392.68</td>\n",
       "      <td>14.98</td>\n",
       "      <td>19.1</td>\n",
       "    </tr>\n",
       "    <tr>\n",
       "      <th>351</th>\n",
       "      <td>0.07950</td>\n",
       "      <td>60.0</td>\n",
       "      <td>1.69</td>\n",
       "      <td>0</td>\n",
       "      <td>0.411</td>\n",
       "      <td>6.579</td>\n",
       "      <td>35.9</td>\n",
       "      <td>10.7103</td>\n",
       "      <td>4</td>\n",
       "      <td>411.0</td>\n",
       "      <td>18.3</td>\n",
       "      <td>370.78</td>\n",
       "      <td>5.49</td>\n",
       "      <td>24.1</td>\n",
       "    </tr>\n",
       "    <tr>\n",
       "      <th>328</th>\n",
       "      <td>0.06617</td>\n",
       "      <td>0.0</td>\n",
       "      <td>3.24</td>\n",
       "      <td>0</td>\n",
       "      <td>0.460</td>\n",
       "      <td>5.868</td>\n",
       "      <td>25.8</td>\n",
       "      <td>5.2146</td>\n",
       "      <td>4</td>\n",
       "      <td>430.0</td>\n",
       "      <td>16.9</td>\n",
       "      <td>382.44</td>\n",
       "      <td>9.97</td>\n",
       "      <td>19.3</td>\n",
       "    </tr>\n",
       "    <tr>\n",
       "      <th>270</th>\n",
       "      <td>0.29916</td>\n",
       "      <td>20.0</td>\n",
       "      <td>6.96</td>\n",
       "      <td>0</td>\n",
       "      <td>0.464</td>\n",
       "      <td>5.856</td>\n",
       "      <td>42.1</td>\n",
       "      <td>4.4290</td>\n",
       "      <td>3</td>\n",
       "      <td>223.0</td>\n",
       "      <td>18.6</td>\n",
       "      <td>388.65</td>\n",
       "      <td>13.00</td>\n",
       "      <td>21.1</td>\n",
       "    </tr>\n",
       "    <tr>\n",
       "      <th>207</th>\n",
       "      <td>0.25199</td>\n",
       "      <td>0.0</td>\n",
       "      <td>10.59</td>\n",
       "      <td>0</td>\n",
       "      <td>0.489</td>\n",
       "      <td>5.783</td>\n",
       "      <td>72.7</td>\n",
       "      <td>4.3549</td>\n",
       "      <td>4</td>\n",
       "      <td>277.0</td>\n",
       "      <td>18.6</td>\n",
       "      <td>389.43</td>\n",
       "      <td>18.06</td>\n",
       "      <td>22.5</td>\n",
       "    </tr>\n",
       "  </tbody>\n",
       "</table>\n",
       "</div>\n",
       "      <button class=\"colab-df-convert\" onclick=\"convertToInteractive('df-0e149f32-75f3-4762-8673-e88b9df728d3')\"\n",
       "              title=\"Convert this dataframe to an interactive table.\"\n",
       "              style=\"display:none;\">\n",
       "        \n",
       "  <svg xmlns=\"http://www.w3.org/2000/svg\" height=\"24px\"viewBox=\"0 0 24 24\"\n",
       "       width=\"24px\">\n",
       "    <path d=\"M0 0h24v24H0V0z\" fill=\"none\"/>\n",
       "    <path d=\"M18.56 5.44l.94 2.06.94-2.06 2.06-.94-2.06-.94-.94-2.06-.94 2.06-2.06.94zm-11 1L8.5 8.5l.94-2.06 2.06-.94-2.06-.94L8.5 2.5l-.94 2.06-2.06.94zm10 10l.94 2.06.94-2.06 2.06-.94-2.06-.94-.94-2.06-.94 2.06-2.06.94z\"/><path d=\"M17.41 7.96l-1.37-1.37c-.4-.4-.92-.59-1.43-.59-.52 0-1.04.2-1.43.59L10.3 9.45l-7.72 7.72c-.78.78-.78 2.05 0 2.83L4 21.41c.39.39.9.59 1.41.59.51 0 1.02-.2 1.41-.59l7.78-7.78 2.81-2.81c.8-.78.8-2.07 0-2.86zM5.41 20L4 18.59l7.72-7.72 1.47 1.35L5.41 20z\"/>\n",
       "  </svg>\n",
       "      </button>\n",
       "      \n",
       "  <style>\n",
       "    .colab-df-container {\n",
       "      display:flex;\n",
       "      flex-wrap:wrap;\n",
       "      gap: 12px;\n",
       "    }\n",
       "\n",
       "    .colab-df-convert {\n",
       "      background-color: #E8F0FE;\n",
       "      border: none;\n",
       "      border-radius: 50%;\n",
       "      cursor: pointer;\n",
       "      display: none;\n",
       "      fill: #1967D2;\n",
       "      height: 32px;\n",
       "      padding: 0 0 0 0;\n",
       "      width: 32px;\n",
       "    }\n",
       "\n",
       "    .colab-df-convert:hover {\n",
       "      background-color: #E2EBFA;\n",
       "      box-shadow: 0px 1px 2px rgba(60, 64, 67, 0.3), 0px 1px 3px 1px rgba(60, 64, 67, 0.15);\n",
       "      fill: #174EA6;\n",
       "    }\n",
       "\n",
       "    [theme=dark] .colab-df-convert {\n",
       "      background-color: #3B4455;\n",
       "      fill: #D2E3FC;\n",
       "    }\n",
       "\n",
       "    [theme=dark] .colab-df-convert:hover {\n",
       "      background-color: #434B5C;\n",
       "      box-shadow: 0px 1px 3px 1px rgba(0, 0, 0, 0.15);\n",
       "      filter: drop-shadow(0px 1px 2px rgba(0, 0, 0, 0.3));\n",
       "      fill: #FFFFFF;\n",
       "    }\n",
       "  </style>\n",
       "\n",
       "      <script>\n",
       "        const buttonEl =\n",
       "          document.querySelector('#df-0e149f32-75f3-4762-8673-e88b9df728d3 button.colab-df-convert');\n",
       "        buttonEl.style.display =\n",
       "          google.colab.kernel.accessAllowed ? 'block' : 'none';\n",
       "\n",
       "        async function convertToInteractive(key) {\n",
       "          const element = document.querySelector('#df-0e149f32-75f3-4762-8673-e88b9df728d3');\n",
       "          const dataTable =\n",
       "            await google.colab.kernel.invokeFunction('convertToInteractive',\n",
       "                                                     [key], {});\n",
       "          if (!dataTable) return;\n",
       "\n",
       "          const docLinkHtml = 'Like what you see? Visit the ' +\n",
       "            '<a target=\"_blank\" href=https://colab.research.google.com/notebooks/data_table.ipynb>data table notebook</a>'\n",
       "            + ' to learn more about interactive tables.';\n",
       "          element.innerHTML = '';\n",
       "          dataTable['output_type'] = 'display_data';\n",
       "          await google.colab.output.renderOutput(dataTable, element);\n",
       "          const docLink = document.createElement('div');\n",
       "          docLink.innerHTML = docLinkHtml;\n",
       "          element.appendChild(docLink);\n",
       "        }\n",
       "      </script>\n",
       "    </div>\n",
       "  </div>\n",
       "  "
      ],
      "text/plain": [
       "        CRIM    ZN  INDUS  CHAS    NOX     RM   AGE      DIS  RAD    TAX  \\\n",
       "486  5.69175   0.0  18.10     0  0.583  6.114  79.8   3.5459   24  666.0   \n",
       "351  0.07950  60.0   1.69     0  0.411  6.579  35.9  10.7103    4  411.0   \n",
       "328  0.06617   0.0   3.24     0  0.460  5.868  25.8   5.2146    4  430.0   \n",
       "270  0.29916  20.0   6.96     0  0.464  5.856  42.1   4.4290    3  223.0   \n",
       "207  0.25199   0.0  10.59     0  0.489  5.783  72.7   4.3549    4  277.0   \n",
       "\n",
       "     PTRATIO       B  LSTAT  MEDV  \n",
       "486     20.2  392.68  14.98  19.1  \n",
       "351     18.3  370.78   5.49  24.1  \n",
       "328     16.9  382.44   9.97  19.3  \n",
       "270     18.6  388.65  13.00  21.1  \n",
       "207     18.6  389.43  18.06  22.5  "
      ]
     },
     "execution_count": 23,
     "metadata": {},
     "output_type": "execute_result"
    }
   ],
   "source": [
    "df = pd.read_csv(\"https://raw.githubusercontent.com/chaudatascience/cs599_fall2022/master/ps3/boston_housing.csv\")\n",
    "print(\"df.shape\", df.shape)\n",
    "df.sample(5)"
   ]
  },
  {
   "cell_type": "code",
   "execution_count": null,
   "id": "0cb078f6",
   "metadata": {
    "colab": {
     "base_uri": "https://localhost:8080/"
    },
    "executionInfo": {
     "elapsed": 18,
     "status": "ok",
     "timestamp": 1664909164872,
     "user": {
      "displayName": "Chau Pham",
      "userId": "15632370410542428059"
     },
     "user_tz": 240
    },
    "id": "0cb078f6",
    "outputId": "23d36740-4a92-4a00-a9fa-d062c683dae5"
   },
   "outputs": [
    {
     "name": "stdout",
     "output_type": "stream",
     "text": [
      "(354, 13) (152, 13) (354,) (152,)\n"
     ]
    }
   ],
   "source": [
    "## Extract features and labels as numpy arrays\n",
    "X, y = df.iloc[:, :-1], df.iloc[:, -1]\n",
    "\n",
    "## Split to train, test\n",
    "X_train, X_test, y_train, y_test = train_test_split(X, y, random_state=42, test_size=0.3)\n",
    "\n",
    "## Check on the shapes\n",
    "print(X_train.shape, X_test.shape, y_train.shape, y_test.shape)"
   ]
  },
  {
   "cell_type": "markdown",
   "id": "bc3baf29",
   "metadata": {
    "id": "bc3baf29"
   },
   "source": [
    "Sklearn provides a useful module named [Pipeline](https://scikit-learn.org/stable/modules/generated/sklearn.pipeline.Pipeline.html) which comes in handy when we need to perform sequence of different transformations. \n",
    "\n",
    "An Example of using Pipeline is shown as below. We want to normalize the data, then create some new polynomial\n",
    "features, and finally a Linear model. Sklearn provides us\n",
    "[PolynomialFeatures](https://scikit-learn.org/stable/modules/generated/sklearn.preprocessing.PolynomialFeatures.html) for generating polynomial and interaction features."
   ]
  },
  {
   "cell_type": "code",
   "execution_count": null,
   "id": "699aa9a8",
   "metadata": {
    "colab": {
     "base_uri": "https://localhost:8080/"
    },
    "executionInfo": {
     "elapsed": 15,
     "status": "ok",
     "timestamp": 1664909164872,
     "user": {
      "displayName": "Chau Pham",
      "userId": "15632370410542428059"
     },
     "user_tz": 240
    },
    "id": "699aa9a8",
    "outputId": "9f604230-fc24-4a08-cba7-82737ddf4330"
   },
   "outputs": [
    {
     "name": "stdout",
     "output_type": "stream",
     "text": [
      "Training score: 0.9447794875013098\n",
      "Test score: 0.6272803201468455\n"
     ]
    }
   ],
   "source": [
    "## \n",
    "from sklearn.preprocessing import PolynomialFeatures\n",
    "from sklearn.pipeline import Pipeline\n",
    "\n",
    "## Steps is a list of Tuple[step_name, transformation_object]\n",
    "steps = [\n",
    "    ('scalar', StandardScaler()),   ## normilaze data\n",
    "    ('poly', PolynomialFeatures(degree=2)),  ## add new features up to 2 degrees\n",
    "    ('model', LinearRegression()) ## Linear regression model\n",
    "]\n",
    "\n",
    "linear_pipe = Pipeline(steps)\n",
    "linear_pipe.fit(X_train, y_train)\n",
    "\n",
    "## Let's see how we perform on the training and test sets\n",
    "print('Training score: {}'.format(linear_pipe.score(X_train, y_train)))\n",
    "print('Test score: {}'.format(linear_pipe.score(X_test, y_test)))"
   ]
  },
  {
   "cell_type": "markdown",
   "id": "00a83d78",
   "metadata": {
    "id": "00a83d78"
   },
   "source": [
    "On training set, the model performs very well, but the score drops significantly on test set.\n",
    "This suggests that our model is overfitting.\n",
    "\n",
    "Now regulirization comes for the rescue.\n",
    "\n",
    "Recall that there are three main techniques for regularization in linear regression, where we add a regularization term to the loss:\n",
    "\n",
    "+   Lasso Regression (L1 regularization):   $\\alpha \\sum_{j=1}^n\\left|\\theta_j\\right|$ \n",
    "+   Ridge Regression (L2 regularization):   $\\alpha \\sum_{j=1}^n\\left|\\theta^2_j\\right|$\n",
    "+   Elastic Net (Combine L1 and L2 regularizations):     $\\alpha_1 \\sum_{j=1}^n\\left|\\theta_j\\right| + \\alpha_2 \\sum_{j=1}^n\\left|\\theta^2_j\\right|$\n",
    "\n",
    "Where $n$ is the number of features, $\\alpha$ is regularization parameter, which controls the degree of regularization. \n",
    "\n",
    "In Sklearn, we can use `sklearn.linear_model.Lasso` for Linear Regression with L1 regularization. It also provides `sklearn.linear_model.Ridge` and `sklearn.linear_model.ElasticNet` for the other 2."
   ]
  },
  {
   "cell_type": "markdown",
   "id": "bbbc1683",
   "metadata": {
    "id": "bbbc1683"
   },
   "source": [
    "Similar to what we have done above, you should be able to perform a Linear Regresison with regularization.\n",
    "\n",
    "Complete the function below for Lasso and Ridge regression by using the code example above. In the function, you should define **`steps` the same as we use in the example:** First, a \"scalar\", then \"poly\" followed by a \"model\". The only thing different here is the model (`Lasso` and `Ridge`, instead of `LinearRegression`)"
   ]
  },
  {
   "cell_type": "markdown",
   "id": "98f65168",
   "metadata": {
    "id": "98f65168"
   },
   "source": [
    "## **2.1 Code:** Lasso and Ridge *(8 pts)*"
   ]
  },
  {
   "cell_type": "code",
   "execution_count": null,
   "id": "1fe2cb9b",
   "metadata": {},
   "outputs": [],
   "source": [
    "from sklearn.linear_model import Ridge, Lasso\n",
    "\n",
    "def question_2_1(regularization: str, alpha_1: float, alpha_2: float,\n",
    "                X_train, y_train, X_test, y_test) -> Tuple[float, float]:\n",
    "    \"\"\"\n",
    "        regularization: one of [\"L1\", \"L2\"]. If \"L1\", use Lasso, otherwise use Ridge.\n",
    "        alpha_1: regularization for Lasso (if Lasso is used)\n",
    "        alpha_2: regularization for Ridge (if Ridge is used)\n",
    "        X_train, y_train, X_test, y_test: numpy arrays, shapes (354, 13), (354,), (152, 13), (152,) respectively\n",
    "        return a Tuple: (train_score, test_score) in that order,\n",
    "        Note that train_score and test_score are float numbers in range [0,1]\n",
    "    \"\"\"\n",
    "    # Write your code in this block -----------------------------------------------------------\n",
    "    # You should define `steps` the same as we use in the example above: \n",
    "    #       first a \"scalar\", then \"poly\" followed by a \"model\". \n",
    "   \n",
    "\n",
    "\n",
    "\n",
    "\n",
    "    ## Don't forget to return train and test scores!\n",
    "    # End of your code -----------------------------------------------------------"
   ]
  },
  {
   "cell_type": "code",
   "execution_count": null,
   "id": "7d624d0a",
   "metadata": {
    "colab": {
     "base_uri": "https://localhost:8080/"
    },
    "executionInfo": {
     "elapsed": 14,
     "status": "ok",
     "timestamp": 1664909164873,
     "user": {
      "displayName": "Chau Pham",
      "userId": "15632370410542428059"
     },
     "user_tz": 240
    },
    "id": "7d624d0a",
    "outputId": "a73945bf-8e5c-44b1-f5e9-b1a166e43dc7"
   },
   "outputs": [
    {
     "name": "stdout",
     "output_type": "stream",
     "text": [
      "regularization: L1, train_score: 0.9070657101514069, test_score: 0.8055776105496002\n",
      "regularization: L2, train_score: 0.9304830234444311, test_score: 0.8079087119535295\n"
     ]
    }
   ],
   "source": [
    "## Test your model\n",
    "alpha_1 = 0.1\n",
    "alpha_2 = 12\n",
    "for regularization in [\"L1\", \"L2\"]:\n",
    "    train_score, test_score = question_2_1(regularization, alpha_1, alpha_2, \n",
    "                                                         X_train, y_train, X_test, y_test)\n",
    "    print(f\"regularization: {regularization}, train_score: {train_score}, test_score: {test_score}\")\n",
    "\n"
   ]
  },
  {
   "cell_type": "markdown",
   "id": "936025e1",
   "metadata": {
    "id": "936025e1"
   },
   "source": [
    "## **2.2 Short answer:** Regularization Effects *(7 pts)*"
   ]
  },
  {
   "cell_type": "code",
   "execution_count": null,
   "id": "b0a629e4",
   "metadata": {
    "colab": {
     "base_uri": "https://localhost:8080/",
     "height": 584
    },
    "executionInfo": {
     "elapsed": 573,
     "status": "ok",
     "timestamp": 1664909165435,
     "user": {
      "displayName": "Chau Pham",
      "userId": "15632370410542428059"
     },
     "user_tz": 240
    },
    "id": "b0a629e4",
    "outputId": "037f6260-b03f-4886-94d4-40c6d9c654bb"
   },
   "outputs": [
    {
     "name": "stdout",
     "output_type": "stream",
     "text": [
      "coefficients of Lasso\n"
     ]
    },
    {
     "data": {
      "image/png": "[encoded data removed]",
      "text/plain": [
       "<Figure size 432x288 with 1 Axes>"
      ]
     },
     "metadata": {
      "needs_background": "light"
     },
     "output_type": "display_data"
    },
    {
     "name": "stdout",
     "output_type": "stream",
     "text": [
      "coefficients of Ridge\n"
     ]
    },
    {
     "data": {
      "image/png": "[encoded data removed]",
      "text/plain": [
       "<Figure size 432x288 with 1 Axes>"
      ]
     },
     "metadata": {
      "needs_background": "light"
     },
     "output_type": "display_data"
    }
   ],
   "source": [
    "alpha = 3\n",
    "lasso = Lasso(alpha).fit(X_train, y_train)\n",
    "ridge = Ridge(alpha).fit(X_train, y_train)\n",
    "\n",
    "# Here the input feature dimension is 13 (we are using X_train and not the degree 2 polynomial features.)\n",
    "# Recall that regularization will affect the coeffiecient placed on the features while making the prediction.\n",
    "# Let's see how the coefficients look like with Lasso and Ridge.\n",
    "\n",
    "coefficients = pd.DataFrame({\"feature\": list(range(len(lasso.coef_))), \"value (Lasso)\": lasso.coef_, \"value (Ridge)\": ridge.coef_})\n",
    "\n",
    "## coefficients of Lasso\n",
    "ax = sns.barplot(data=coefficients, x=\"feature\", y=\"value (Lasso)\")\n",
    "ax.set( ylim=(-4, 4)) ## set  min, max for the y-axis\n",
    "print(\"coefficients of Lasso\")\n",
    "plt.show()\n",
    "\n",
    "## coefficients of Ridge\n",
    "ax = sns.barplot(data=coefficients, x=\"feature\", y=\"value (Ridge)\")\n",
    "ax.set( ylim=(-4, 4)) ## set  min, max for the y-axis\n",
    "print(\"coefficients of Ridge\")\n",
    "plt.show()"
   ]
  },
  {
   "cell_type": "markdown",
   "id": "c30213b8",
   "metadata": {
    "id": "c30213b8"
   },
   "source": [
    "**Question:** \n",
    "\n",
    "**1. Compare the performance of the model with and without regularization.**\n",
    "\n",
    "**2. Compare the coefficients when using Lasso and Ridge.**\n",
    "\n",
    "**3. How does alpha in Lasso and Ridge affect the coefficients and performance? (i.e., what happens if we use very tiny alpha, or very large alpha? You can play around with some values of alpha by changing the value `alpha=3` or in `alpha_1` and `alpha_2` above to get an intuition for this.)**\n"
   ]
  },
  {
   "cell_type": "markdown",
   "id": "bfa569b8",
   "metadata": {
    "id": "bfa569b8"
   },
   "source": [
    "Write your answer in this block\n",
    "\n",
    "**Your Answer:**\n"
   ]
  },
  {
   "cell_type": "markdown",
   "id": "cc909ce5",
   "metadata": {},
   "source": [
    "# **Question 3.** Regression Trees  (*30 total points*)"
   ]
  },
  {
   "cell_type": "markdown",
   "id": "846484d1",
   "metadata": {},
   "source": [
    "In the first two sections, we will work on UK Used Car dataset. The dataset was adapted from [Kaggle's Data](https://www.kaggle.com/datasets/adityadesai13/used-car-dataset-ford-and-mercedes/code?datasetId=750216&sortBy=voteCount). It contains information of the car such as price (in £), transmission, mileage, fuel type, road tax, miles per gallon (mpg), and engine size. For more details about the dataset, you can refer to [this link](https://www.kaggle.com/datasets/adityadesai13/used-car-dataset-ford-and-mercedes).\n",
    "\n",
    "Our goal is to train a regression tree to predict the price of a used car, given other information.\n",
    "\n",
    "First, let's read the dataset"
   ]
  },
  {
   "cell_type": "code",
   "execution_count": 4,
   "id": "76d09354",
   "metadata": {},
   "outputs": [
    {
     "name": "stdout",
     "output_type": "stream",
     "text": [
      "(4960, 10)\n"
     ]
    },
    {
     "data": {
      "text/html": [
       "<div>\n",
       "<style scoped>\n",
       "    .dataframe tbody tr th:only-of-type {\n",
       "        vertical-align: middle;\n",
       "    }\n",
       "\n",
       "    .dataframe tbody tr th {\n",
       "        vertical-align: top;\n",
       "    }\n",
       "\n",
       "    .dataframe thead th {\n",
       "        text-align: right;\n",
       "    }\n",
       "</style>\n",
       "<table border=\"1\" class=\"dataframe\">\n",
       "  <thead>\n",
       "    <tr style=\"text-align: right;\">\n",
       "      <th></th>\n",
       "      <th>brand</th>\n",
       "      <th>model</th>\n",
       "      <th>year</th>\n",
       "      <th>transmission</th>\n",
       "      <th>mileage</th>\n",
       "      <th>fuelType</th>\n",
       "      <th>tax</th>\n",
       "      <th>mpg</th>\n",
       "      <th>engineSize</th>\n",
       "      <th>price</th>\n",
       "    </tr>\n",
       "  </thead>\n",
       "  <tbody>\n",
       "    <tr>\n",
       "      <th>0</th>\n",
       "      <td>hyundi</td>\n",
       "      <td>Santa Fe</td>\n",
       "      <td>2019</td>\n",
       "      <td>Semi-Auto</td>\n",
       "      <td>4223</td>\n",
       "      <td>Diesel</td>\n",
       "      <td>145.0</td>\n",
       "      <td>39.8</td>\n",
       "      <td>2.2</td>\n",
       "      <td>31995</td>\n",
       "    </tr>\n",
       "    <tr>\n",
       "      <th>1</th>\n",
       "      <td>vauxhall</td>\n",
       "      <td>GTC</td>\n",
       "      <td>2015</td>\n",
       "      <td>Manual</td>\n",
       "      <td>47870</td>\n",
       "      <td>Diesel</td>\n",
       "      <td>125.0</td>\n",
       "      <td>60.1</td>\n",
       "      <td>2.0</td>\n",
       "      <td>7700</td>\n",
       "    </tr>\n",
       "    <tr>\n",
       "      <th>2</th>\n",
       "      <td>audi</td>\n",
       "      <td>RS4</td>\n",
       "      <td>2019</td>\n",
       "      <td>Automatic</td>\n",
       "      <td>5151</td>\n",
       "      <td>Petrol</td>\n",
       "      <td>145.0</td>\n",
       "      <td>29.1</td>\n",
       "      <td>2.9</td>\n",
       "      <td>58990</td>\n",
       "    </tr>\n",
       "    <tr>\n",
       "      <th>3</th>\n",
       "      <td>vw</td>\n",
       "      <td>Scirocco</td>\n",
       "      <td>2016</td>\n",
       "      <td>Automatic</td>\n",
       "      <td>20423</td>\n",
       "      <td>Diesel</td>\n",
       "      <td>30.0</td>\n",
       "      <td>57.6</td>\n",
       "      <td>2.0</td>\n",
       "      <td>12999</td>\n",
       "    </tr>\n",
       "    <tr>\n",
       "      <th>4</th>\n",
       "      <td>skoda</td>\n",
       "      <td>Scala</td>\n",
       "      <td>2020</td>\n",
       "      <td>Semi-Auto</td>\n",
       "      <td>3569</td>\n",
       "      <td>Petrol</td>\n",
       "      <td>145.0</td>\n",
       "      <td>47.1</td>\n",
       "      <td>1.0</td>\n",
       "      <td>16990</td>\n",
       "    </tr>\n",
       "  </tbody>\n",
       "</table>\n",
       "</div>"
      ],
      "text/plain": [
       "      brand      model  year transmission  mileage fuelType    tax   mpg  \\\n",
       "0    hyundi   Santa Fe  2019    Semi-Auto     4223   Diesel  145.0  39.8   \n",
       "1  vauxhall        GTC  2015       Manual    47870   Diesel  125.0  60.1   \n",
       "2      audi        RS4  2019    Automatic     5151   Petrol  145.0  29.1   \n",
       "3        vw   Scirocco  2016    Automatic    20423   Diesel   30.0  57.6   \n",
       "4     skoda      Scala  2020    Semi-Auto     3569   Petrol  145.0  47.1   \n",
       "\n",
       "   engineSize  price  \n",
       "0         2.2  31995  \n",
       "1         2.0   7700  \n",
       "2         2.9  58990  \n",
       "3         2.0  12999  \n",
       "4         1.0  16990  "
      ]
     },
     "execution_count": 4,
     "metadata": {},
     "output_type": "execute_result"
    }
   ],
   "source": [
    "df = pd.read_csv(\"https://raw.githubusercontent.com/chaudatascience/cs599_fall2022/master/ps4/used_car_price.csv\")\n",
    "print(df.shape)\n",
    "df.head()"
   ]
  },
  {
   "cell_type": "markdown",
   "id": "6886001e",
   "metadata": {},
   "source": [
    "A regression tree is like a classification tree, but a regression tree stores values rather than labels in the leaves. The tree is fitted using a procedure quite like fitting a classification tree. The splitting process parallels the one we used for classification, but now we can use the error in the regression to choose the split instead of the information gain."
   ]
  },
  {
   "cell_type": "markdown",
   "id": "ac544319",
   "metadata": {},
   "source": [
    "## **3.1 Code:** Label encoder *(10 pts)*"
   ]
  },
  {
   "cell_type": "markdown",
   "id": "d9daa837",
   "metadata": {},
   "source": [
    "We can observe that some columns (e.g., \"brand\", \"model\") contain string values, not numbers.\n",
    "In order to use Sklearn's regression tree, we need to convert these strings into numbers first."
   ]
  },
  {
   "cell_type": "markdown",
   "id": "137a64bf",
   "metadata": {},
   "source": [
    "There are some options for this, such as [OneHotEncoder](https://scikit-learn.org/stable/modules/generated/sklearn.preprocessing.OneHotEncoder.html#sklearn.preprocessing.OneHotEncoder), [OrdinalEncoder](https://scikit-learn.org/sOrdinalEncodertable/modules/generated/sklearn.preprocessing.OrdinalEncoder.html#sklearn.preprocessing.OrdinalEncoder). \n",
    "\n",
    "In this section, we will use [LabelEncoder](https://scikit-learn.org/stable/modules/generated/sklearn.preprocessing.LabelEncoder.html). The idea is that, for each string value, we map it to a integer number. For example, suppose we have total 3 car brands in column \"brand\": [\"audi\", \"bmw\", toyota\"], it can be mapped to integers number as follows:  \n",
    "         \"audi\" -> 0, \"bmw\" -> 1, \"toyota\" -> 2\n",
    "\n",
    "You will need to complete the function below, using  [LabelEncoder](https://scikit-learn.org/stable/modules/generated/sklearn.preprocessing.LabelEncoder.html)."
   ]
  },
  {
   "cell_type": "code",
   "execution_count": 15,
   "id": "f1a713c6",
   "metadata": {},
   "outputs": [
    {
     "data": {
      "text/html": [
       "<div>\n",
       "<style scoped>\n",
       "    .dataframe tbody tr th:only-of-type {\n",
       "        vertical-align: middle;\n",
       "    }\n",
       "\n",
       "    .dataframe tbody tr th {\n",
       "        vertical-align: top;\n",
       "    }\n",
       "\n",
       "    .dataframe thead th {\n",
       "        text-align: right;\n",
       "    }\n",
       "</style>\n",
       "<table border=\"1\" class=\"dataframe\">\n",
       "  <thead>\n",
       "    <tr style=\"text-align: right;\">\n",
       "      <th></th>\n",
       "      <th>brand</th>\n",
       "      <th>model</th>\n",
       "      <th>year</th>\n",
       "      <th>transmission</th>\n",
       "      <th>mileage</th>\n",
       "      <th>fuelType</th>\n",
       "      <th>tax</th>\n",
       "      <th>mpg</th>\n",
       "      <th>engineSize</th>\n",
       "      <th>price</th>\n",
       "    </tr>\n",
       "  </thead>\n",
       "  <tbody>\n",
       "    <tr>\n",
       "      <th>0</th>\n",
       "      <td>3</td>\n",
       "      <td>69</td>\n",
       "      <td>2019</td>\n",
       "      <td>3</td>\n",
       "      <td>4223</td>\n",
       "      <td>0</td>\n",
       "      <td>145.0</td>\n",
       "      <td>39.8</td>\n",
       "      <td>2.2</td>\n",
       "      <td>31995</td>\n",
       "    </tr>\n",
       "    <tr>\n",
       "      <th>1</th>\n",
       "      <td>7</td>\n",
       "      <td>30</td>\n",
       "      <td>2015</td>\n",
       "      <td>1</td>\n",
       "      <td>47870</td>\n",
       "      <td>0</td>\n",
       "      <td>125.0</td>\n",
       "      <td>60.1</td>\n",
       "      <td>2.0</td>\n",
       "      <td>7700</td>\n",
       "    </tr>\n",
       "    <tr>\n",
       "      <th>2</th>\n",
       "      <td>0</td>\n",
       "      <td>58</td>\n",
       "      <td>2019</td>\n",
       "      <td>0</td>\n",
       "      <td>5151</td>\n",
       "      <td>4</td>\n",
       "      <td>145.0</td>\n",
       "      <td>29.1</td>\n",
       "      <td>2.9</td>\n",
       "      <td>58990</td>\n",
       "    </tr>\n",
       "    <tr>\n",
       "      <th>3</th>\n",
       "      <td>8</td>\n",
       "      <td>71</td>\n",
       "      <td>2016</td>\n",
       "      <td>0</td>\n",
       "      <td>20423</td>\n",
       "      <td>0</td>\n",
       "      <td>30.0</td>\n",
       "      <td>57.6</td>\n",
       "      <td>2.0</td>\n",
       "      <td>12999</td>\n",
       "    </tr>\n",
       "    <tr>\n",
       "      <th>4</th>\n",
       "      <td>5</td>\n",
       "      <td>70</td>\n",
       "      <td>2020</td>\n",
       "      <td>3</td>\n",
       "      <td>3569</td>\n",
       "      <td>4</td>\n",
       "      <td>145.0</td>\n",
       "      <td>47.1</td>\n",
       "      <td>1.0</td>\n",
       "      <td>16990</td>\n",
       "    </tr>\n",
       "    <tr>\n",
       "      <th>5</th>\n",
       "      <td>4</td>\n",
       "      <td>77</td>\n",
       "      <td>2019</td>\n",
       "      <td>0</td>\n",
       "      <td>4170</td>\n",
       "      <td>0</td>\n",
       "      <td>145.0</td>\n",
       "      <td>44.1</td>\n",
       "      <td>2.1</td>\n",
       "      <td>40890</td>\n",
       "    </tr>\n",
       "    <tr>\n",
       "      <th>6</th>\n",
       "      <td>6</td>\n",
       "      <td>53</td>\n",
       "      <td>2020</td>\n",
       "      <td>0</td>\n",
       "      <td>3</td>\n",
       "      <td>2</td>\n",
       "      <td>135.0</td>\n",
       "      <td>64.2</td>\n",
       "      <td>1.8</td>\n",
       "      <td>25990</td>\n",
       "    </tr>\n",
       "    <tr>\n",
       "      <th>7</th>\n",
       "      <td>1</td>\n",
       "      <td>48</td>\n",
       "      <td>2019</td>\n",
       "      <td>3</td>\n",
       "      <td>101</td>\n",
       "      <td>4</td>\n",
       "      <td>145.0</td>\n",
       "      <td>34.0</td>\n",
       "      <td>3.0</td>\n",
       "      <td>41980</td>\n",
       "    </tr>\n",
       "    <tr>\n",
       "      <th>8</th>\n",
       "      <td>6</td>\n",
       "      <td>19</td>\n",
       "      <td>2019</td>\n",
       "      <td>0</td>\n",
       "      <td>6340</td>\n",
       "      <td>2</td>\n",
       "      <td>135.0</td>\n",
       "      <td>52.3</td>\n",
       "      <td>2.5</td>\n",
       "      <td>25490</td>\n",
       "    </tr>\n",
       "    <tr>\n",
       "      <th>9</th>\n",
       "      <td>2</td>\n",
       "      <td>42</td>\n",
       "      <td>2012</td>\n",
       "      <td>1</td>\n",
       "      <td>85843</td>\n",
       "      <td>4</td>\n",
       "      <td>30.0</td>\n",
       "      <td>57.7</td>\n",
       "      <td>1.2</td>\n",
       "      <td>3491</td>\n",
       "    </tr>\n",
       "  </tbody>\n",
       "</table>\n",
       "</div>"
      ],
      "text/plain": [
       "   brand  model  year  transmission  mileage  fuelType    tax   mpg  \\\n",
       "0      3     69  2019             3     4223         0  145.0  39.8   \n",
       "1      7     30  2015             1    47870         0  125.0  60.1   \n",
       "2      0     58  2019             0     5151         4  145.0  29.1   \n",
       "3      8     71  2016             0    20423         0   30.0  57.6   \n",
       "4      5     70  2020             3     3569         4  145.0  47.1   \n",
       "5      4     77  2019             0     4170         0  145.0  44.1   \n",
       "6      6     53  2020             0        3         2  135.0  64.2   \n",
       "7      1     48  2019             3      101         4  145.0  34.0   \n",
       "8      6     19  2019             0     6340         2  135.0  52.3   \n",
       "9      2     42  2012             1    85843         4   30.0  57.7   \n",
       "\n",
       "   engineSize  price  \n",
       "0         2.2  31995  \n",
       "1         2.0   7700  \n",
       "2         2.9  58990  \n",
       "3         2.0  12999  \n",
       "4         1.0  16990  \n",
       "5         2.1  40890  \n",
       "6         1.8  25990  \n",
       "7         3.0  41980  \n",
       "8         2.5  25490  \n",
       "9         1.2   3491  "
      ]
     },
     "execution_count": 15,
     "metadata": {},
     "output_type": "execute_result"
    }
   ],
   "source": [
    "from sklearn import preprocessing\n",
    "\n",
    "def question_3_1(columns: List[str], df: pd.DataFrame) -> pd.DataFrame:\n",
    "    \"\"\"\n",
    "    label encode for categorical columns.\n",
    "    columns: list of categorical columns needed to encode\n",
    "    df: Pandas dataframe\n",
    "    return a Pandas dataframe (same shape as input) where each col in `columns` gets encoded.\n",
    "    \n",
    "    \"\"\"\n",
    "    # Write your code in this block -----------------------------------------------------------\n",
    "\n",
    "\n",
    "   \n",
    "    # End of your code -----------------------------------------------------------\n",
    "\n",
    "### Test your function\n",
    "categorical_columns =  ['brand', 'model', 'transmission', 'fuelType'] \n",
    "\n",
    "df = question_3_1(categorical_columns, df)\n",
    "df.head(10)"
   ]
  },
  {
   "cell_type": "markdown",
   "id": "6fa2447f",
   "metadata": {},
   "source": [
    "## **3.2 Code:** Regression Tree *(10 pts)*"
   ]
  },
  {
   "cell_type": "code",
   "execution_count": 16,
   "id": "cb351fa8",
   "metadata": {},
   "outputs": [
    {
     "name": "stdout",
     "output_type": "stream",
     "text": [
      "(3472, 9) (1488, 9) (3472,) (1488,)\n"
     ]
    }
   ],
   "source": [
    "### Prepare data\n",
    "X = df.drop(columns=\"price\")\n",
    "y = df[\"price\"]\n",
    "\n",
    "## Split to train, test\n",
    "X_train, X_test, y_train, y_test = train_test_split(X, y, random_state=2022, test_size=0.3)\n",
    "\n",
    "## Check on the shapes\n",
    "print(X_train.shape, X_test.shape, y_train.shape, y_test.shape)"
   ]
  },
  {
   "cell_type": "markdown",
   "id": "d5c99695",
   "metadata": {},
   "source": [
    "We will train a Regression Tree on the dataset using Sklearn.\n",
    "You can refer to the document of DecisionTreeRegressor [here](https://scikit-learn.org/stable/modules/generated/sklearn.tree.DecisionTreeRegressor.html).\n",
    "You should take a look at the document, to see what parameters it provides and understand their meaning.\n"
   ]
  },
  {
   "cell_type": "code",
   "execution_count": 17,
   "id": "5216696f",
   "metadata": {},
   "outputs": [],
   "source": [
    "from sklearn.tree import DecisionTreeRegressor\n",
    "\n",
    "def question_3_2(X: np.ndarray, y: np.ndarray, random_state: int, \n",
    "                 max_depth: int, min_samples_split: int) -> DecisionTreeRegressor:\n",
    "    \"\"\"\n",
    "    Train a Sklearn's Regression Tree on features `X` and labels `y`.\n",
    "    The regression tree has max_depth=`max_depth`, and min_samples_split=`min_samples_split`,\n",
    "    and set random_state to `random_state` when initializing.\n",
    "    \n",
    "    X: 2d numpy array, shape of (num_samples, feat_dim)\n",
    "    y: numpy array, shape of (num_samples, )\n",
    "    random_state: controls the randomness of the model.\n",
    "    max_depth: The maximum depth of the tree\n",
    "    min_samples_split: The minimum number of samples required to split an internal node\n",
    "    \n",
    "    return a trained `DecisionTreeRegressor`\n",
    "    \"\"\"\n",
    "    # Write your code in this block -----------------------------------------------------------\n",
    "\n",
    "\n",
    "\n",
    "    # End of your code ------------------------------------------------------------------------\n"
   ]
  },
  {
   "cell_type": "markdown",
   "id": "1530a37e",
   "metadata": {},
   "source": [
    "## **3.3 Code:** Root mean square error *(5 pts)*\n"
   ]
  },
  {
   "cell_type": "markdown",
   "id": "7e6df142",
   "metadata": {},
   "source": [
    "To measure how the model performs, we can evaluate the results on root mean square error (RMSE):\n",
    "\n",
    "$$\n",
    "\\text{RMSE}=\\sqrt{\\frac{\\sum_{i=1}^N\\left(\\text {Predicted}_i-\\text {Actual}_i\\right)^2}{N}}\n",
    "$$\n",
    "where N is the number of samples.\n",
    "\n",
    "\n",
    "RMSE give us an idea of how far predictions fall from measured true values using Euclidean distance:  lower the RMSE better is model performance.\n",
    "\n",
    "Write a function to compute RMSE"
   ]
  },
  {
   "cell_type": "code",
   "execution_count": 18,
   "id": "0b04c51c",
   "metadata": {},
   "outputs": [],
   "source": [
    "def question_3_3(y_true: np.ndarray, y_pred: np.ndarray) -> float:\n",
    "    \"\"\"\n",
    "    Compute RMSE given predictions and ground-truth labels\n",
    "    y_true: ground-truth labels, shape (num_samples, )\n",
    "    y_pred: predictions,  shape (num_samples, )\n",
    "    return root mean square error\n",
    "    \"\"\"\n",
    "    # Write your code in this block -----------------------------------------------------------\n",
    "\n",
    "    \n",
    "    \n",
    "    # End of your code ------------------------------------------------------------------------\n",
    "\n",
    "\n",
    "\n",
    "## test your function\n",
    "y_true = np.array([7,8,10])\n",
    "y_pred = np.array([7,7,8])\n",
    "# question_3_3(y_true, y_pred)  ## expected result: 1.2909944487358056"
   ]
  },
  {
   "cell_type": "code",
   "execution_count": 19,
   "id": "bceae585",
   "metadata": {},
   "outputs": [
    {
     "name": "stdout",
     "output_type": "stream",
     "text": [
      "max_depth=7, min_samples_split=2\n",
      "Root Mean Square Error on training set: 4522.931688492328\n",
      "Root Mean Square Error on test set: 5870.628662511966\n"
     ]
    }
   ],
   "source": [
    "### Test your model in question 1.2\n",
    "\n",
    "max_depth = 7\n",
    "min_samples_split = 2\n",
    "random_state = 2022\n",
    "\n",
    "print(f\"max_depth={max_depth}, min_samples_split={min_samples_split}\")\n",
    "model = question_3_2(X_train, y_train, random_state, max_depth, min_samples_split)\n",
    "train_pred = model.predict(X_train)\n",
    "test_pred = model.predict(X_test)\n",
    "print(\"Root Mean Square Error on training set:\", question_3_3(y_train, train_pred))\n",
    "print(\"Root Mean Square Error on test set:\", question_3_3(y_test, test_pred))"
   ]
  },
  {
   "cell_type": "markdown",
   "id": "c9c0b43a",
   "metadata": {},
   "source": [
    "Our regression tree has a rmse of around £6k on test set."
   ]
  },
  {
   "cell_type": "markdown",
   "id": "783e4a24",
   "metadata": {},
   "source": [
    "## **3.4 Short answer:** Explanation for prediction *(5 pts)*"
   ]
  },
  {
   "cell_type": "code",
   "execution_count": 21,
   "id": "1b1a72d0",
   "metadata": {},
   "outputs": [
    {
     "data": {
      "image/svg+xml": [
       "<?xml version=\"1.0\" encoding=\"UTF-8\" standalone=\"no\"?>\n",
       "<!DOCTYPE svg PUBLIC \"-//W3C//DTD SVG 1.1//EN\"\n",
       " \"http://www.w3.org/Graphics/SVG/1.1/DTD/svg11.dtd\">\n",
       "<!-- Generated by graphviz version 9.0.0 (20230911.1827)\n",
       " -->\n",
       "<!-- Title: Tree Pages: 1 -->\n",
       "<svg width=\"1781pt\" height=\"373pt\"\n",
       " viewBox=\"0.00 0.00 1780.50 373.00\" xmlns=\"http://www.w3.org/2000/svg\" xmlns:xlink=\"http://www.w3.org/1999/xlink\">\n",
       "<g id=\"graph0\" class=\"graph\" transform=\"scale(1 1) rotate(0) translate(4 369)\">\n",
       "<title>Tree</title>\n",
       "<polygon fill=\"white\" stroke=\"none\" points=\"-4,4 -4,-369 1776.5,-369 1776.5,4 -4,4\"/>\n",
       "<!-- 0 -->\n",
       "<g id=\"node1\" class=\"node\">\n",
       "<title>0</title>\n",
       "<polygon fill=\"#fcefe7\" stroke=\"black\" points=\"981.5,-365 771.25,-365 771.25,-297 981.5,-297 981.5,-365\"/>\n",
       "<text text-anchor=\"middle\" x=\"876.38\" y=\"-347.7\" font-family=\"Helvetica,sans-Serif\" font-size=\"14.00\">engineSize &lt;= 2.75</text>\n",
       "<text text-anchor=\"middle\" x=\"876.38\" y=\"-332.7\" font-family=\"Helvetica,sans-Serif\" font-size=\"14.00\">squared_error = 277278180.587</text>\n",
       "<text text-anchor=\"middle\" x=\"876.38\" y=\"-317.7\" font-family=\"Helvetica,sans-Serif\" font-size=\"14.00\">samples = 3472</text>\n",
       "<text text-anchor=\"middle\" x=\"876.38\" y=\"-302.7\" font-family=\"Helvetica,sans-Serif\" font-size=\"14.00\">value = 23780.499</text>\n",
       "</g>\n",
       "<!-- 1 -->\n",
       "<g id=\"node2\" class=\"node\">\n",
       "<title>1</title>\n",
       "<polygon fill=\"#fdf6f1\" stroke=\"black\" points=\"754.75,-261 552,-261 552,-193 754.75,-193 754.75,-261\"/>\n",
       "<text text-anchor=\"middle\" x=\"653.38\" y=\"-243.7\" font-family=\"Helvetica,sans-Serif\" font-size=\"14.00\">year &lt;= 2018.5</text>\n",
       "<text text-anchor=\"middle\" x=\"653.38\" y=\"-228.7\" font-family=\"Helvetica,sans-Serif\" font-size=\"14.00\">squared_error = 97919062.052</text>\n",
       "<text text-anchor=\"middle\" x=\"653.38\" y=\"-213.7\" font-family=\"Helvetica,sans-Serif\" font-size=\"14.00\">samples = 2567</text>\n",
       "<text text-anchor=\"middle\" x=\"653.38\" y=\"-198.7\" font-family=\"Helvetica,sans-Serif\" font-size=\"14.00\">value = 17877.903</text>\n",
       "</g>\n",
       "<!-- 0&#45;&gt;1 -->\n",
       "<g id=\"edge1\" class=\"edge\">\n",
       "<title>0&#45;&gt;1</title>\n",
       "<path fill=\"none\" stroke=\"black\" d=\"M803.36,-296.6C782.08,-286.87 758.68,-276.17 736.82,-266.17\"/>\n",
       "<polygon fill=\"black\" stroke=\"black\" points=\"738.48,-263.08 727.93,-262.1 735.57,-269.45 738.48,-263.08\"/>\n",
       "<text text-anchor=\"middle\" x=\"735.28\" y=\"-279.1\" font-family=\"Helvetica,sans-Serif\" font-size=\"14.00\">True</text>\n",
       "</g>\n",
       "<!-- 8 -->\n",
       "<g id=\"node9\" class=\"node\">\n",
       "<title>8</title>\n",
       "<polygon fill=\"#f8ddc9\" stroke=\"black\" points=\"1206.5,-261 996.25,-261 996.25,-193 1206.5,-193 1206.5,-261\"/>\n",
       "<text text-anchor=\"middle\" x=\"1101.38\" y=\"-243.7\" font-family=\"Helvetica,sans-Serif\" font-size=\"14.00\">year &lt;= 2017.5</text>\n",
       "<text text-anchor=\"middle\" x=\"1101.38\" y=\"-228.7\" font-family=\"Helvetica,sans-Serif\" font-size=\"14.00\">squared_error = 406888316.621</text>\n",
       "<text text-anchor=\"middle\" x=\"1101.38\" y=\"-213.7\" font-family=\"Helvetica,sans-Serif\" font-size=\"14.00\">samples = 905</text>\n",
       "<text text-anchor=\"middle\" x=\"1101.38\" y=\"-198.7\" font-family=\"Helvetica,sans-Serif\" font-size=\"14.00\">value = 40523.0</text>\n",
       "</g>\n",
       "<!-- 0&#45;&gt;8 -->\n",
       "<g id=\"edge8\" class=\"edge\">\n",
       "<title>0&#45;&gt;8</title>\n",
       "<path fill=\"none\" stroke=\"black\" d=\"M950.05,-296.6C971.51,-286.87 995.13,-276.17 1017.19,-266.17\"/>\n",
       "<polygon fill=\"black\" stroke=\"black\" points=\"1018.49,-269.42 1026.16,-262.1 1015.6,-263.04 1018.49,-269.42\"/>\n",
       "<text text-anchor=\"middle\" x=\"1018.73\" y=\"-279.07\" font-family=\"Helvetica,sans-Serif\" font-size=\"14.00\">False</text>\n",
       "</g>\n",
       "<!-- 2 -->\n",
       "<g id=\"node3\" class=\"node\">\n",
       "<title>2</title>\n",
       "<polygon fill=\"#fefbf8\" stroke=\"black\" points=\"423.75,-157 221,-157 221,-89 423.75,-89 423.75,-157\"/>\n",
       "<text text-anchor=\"middle\" x=\"322.38\" y=\"-139.7\" font-family=\"Helvetica,sans-Serif\" font-size=\"14.00\">engineSize &lt;= 1.75</text>\n",
       "<text text-anchor=\"middle\" x=\"322.38\" y=\"-124.7\" font-family=\"Helvetica,sans-Serif\" font-size=\"14.00\">squared_error = 43567239.276</text>\n",
       "<text text-anchor=\"middle\" x=\"322.38\" y=\"-109.7\" font-family=\"Helvetica,sans-Serif\" font-size=\"14.00\">samples = 1757</text>\n",
       "<text text-anchor=\"middle\" x=\"322.38\" y=\"-94.7\" font-family=\"Helvetica,sans-Serif\" font-size=\"14.00\">value = 13712.748</text>\n",
       "</g>\n",
       "<!-- 1&#45;&gt;2 -->\n",
       "<g id=\"edge2\" class=\"edge\">\n",
       "<title>1&#45;&gt;2</title>\n",
       "<path fill=\"none\" stroke=\"black\" d=\"M551.81,-194.7C514.73,-183.28 472.58,-170.29 434.62,-158.59\"/>\n",
       "<polygon fill=\"black\" stroke=\"black\" points=\"436.06,-155.37 425.47,-155.77 434,-162.06 436.06,-155.37\"/>\n",
       "</g>\n",
       "<!-- 5 -->\n",
       "<g id=\"node6\" class=\"node\">\n",
       "<title>5</title>\n",
       "<polygon fill=\"#fbece1\" stroke=\"black\" points=\"754.75,-157 552,-157 552,-89 754.75,-89 754.75,-157\"/>\n",
       "<text text-anchor=\"middle\" x=\"653.38\" y=\"-139.7\" font-family=\"Helvetica,sans-Serif\" font-size=\"14.00\">engineSize &lt;= 1.9</text>\n",
       "<text text-anchor=\"middle\" x=\"653.38\" y=\"-124.7\" font-family=\"Helvetica,sans-Serif\" font-size=\"14.00\">squared_error = 96556911.009</text>\n",
       "<text text-anchor=\"middle\" x=\"653.38\" y=\"-109.7\" font-family=\"Helvetica,sans-Serif\" font-size=\"14.00\">samples = 810</text>\n",
       "<text text-anchor=\"middle\" x=\"653.38\" y=\"-94.7\" font-family=\"Helvetica,sans-Serif\" font-size=\"14.00\">value = 26912.689</text>\n",
       "</g>\n",
       "<!-- 1&#45;&gt;5 -->\n",
       "<g id=\"edge5\" class=\"edge\">\n",
       "<title>1&#45;&gt;5</title>\n",
       "<path fill=\"none\" stroke=\"black\" d=\"M653.38,-192.6C653.38,-185.03 653.38,-176.87 653.38,-168.9\"/>\n",
       "<polygon fill=\"black\" stroke=\"black\" points=\"656.88,-168.99 653.38,-158.99 649.88,-168.99 656.88,-168.99\"/>\n",
       "</g>\n",
       "<!-- 3 -->\n",
       "<g id=\"node4\" class=\"node\">\n",
       "<title>3</title>\n",
       "<polygon fill=\"#ffffff\" stroke=\"black\" points=\"202.75,-53 0,-53 0,0 202.75,0 202.75,-53\"/>\n",
       "<text text-anchor=\"middle\" x=\"101.38\" y=\"-35.7\" font-family=\"Helvetica,sans-Serif\" font-size=\"14.00\">squared_error = 28335254.247</text>\n",
       "<text text-anchor=\"middle\" x=\"101.38\" y=\"-20.7\" font-family=\"Helvetica,sans-Serif\" font-size=\"14.00\">samples = 746</text>\n",
       "<text text-anchor=\"middle\" x=\"101.38\" y=\"-5.7\" font-family=\"Helvetica,sans-Serif\" font-size=\"14.00\">value = 9868.072</text>\n",
       "</g>\n",
       "<!-- 2&#45;&gt;3 -->\n",
       "<g id=\"edge3\" class=\"edge\">\n",
       "<title>2&#45;&gt;3</title>\n",
       "<path fill=\"none\" stroke=\"black\" d=\"M244.15,-88.55C220.78,-78.56 195.3,-67.66 172.43,-57.88\"/>\n",
       "<polygon fill=\"black\" stroke=\"black\" points=\"174.08,-54.78 163.5,-54.07 171.32,-61.22 174.08,-54.78\"/>\n",
       "</g>\n",
       "<!-- 4 -->\n",
       "<g id=\"node5\" class=\"node\">\n",
       "<title>4</title>\n",
       "<polygon fill=\"#fdf8f3\" stroke=\"black\" points=\"423.75,-53 221,-53 221,0 423.75,0 423.75,-53\"/>\n",
       "<text text-anchor=\"middle\" x=\"322.38\" y=\"-35.7\" font-family=\"Helvetica,sans-Serif\" font-size=\"14.00\">squared_error = 35851492.118</text>\n",
       "<text text-anchor=\"middle\" x=\"322.38\" y=\"-20.7\" font-family=\"Helvetica,sans-Serif\" font-size=\"14.00\">samples = 1011</text>\n",
       "<text text-anchor=\"middle\" x=\"322.38\" y=\"-5.7\" font-family=\"Helvetica,sans-Serif\" font-size=\"14.00\">value = 16549.671</text>\n",
       "</g>\n",
       "<!-- 2&#45;&gt;4 -->\n",
       "<g id=\"edge4\" class=\"edge\">\n",
       "<title>2&#45;&gt;4</title>\n",
       "<path fill=\"none\" stroke=\"black\" d=\"M322.38,-88.68C322.38,-80.99 322.38,-72.76 322.38,-64.9\"/>\n",
       "<polygon fill=\"black\" stroke=\"black\" points=\"325.88,-64.91 322.38,-54.91 318.88,-64.91 325.88,-64.91\"/>\n",
       "</g>\n",
       "<!-- 6 -->\n",
       "<g id=\"node7\" class=\"node\">\n",
       "<title>6</title>\n",
       "<polygon fill=\"#fdf4ee\" stroke=\"black\" points=\"644.75,-53 442,-53 442,0 644.75,0 644.75,-53\"/>\n",
       "<text text-anchor=\"middle\" x=\"543.38\" y=\"-35.7\" font-family=\"Helvetica,sans-Serif\" font-size=\"14.00\">squared_error = 48383411.011</text>\n",
       "<text text-anchor=\"middle\" x=\"543.38\" y=\"-20.7\" font-family=\"Helvetica,sans-Serif\" font-size=\"14.00\">samples = 330</text>\n",
       "<text text-anchor=\"middle\" x=\"543.38\" y=\"-5.7\" font-family=\"Helvetica,sans-Serif\" font-size=\"14.00\">value = 19731.448</text>\n",
       "</g>\n",
       "<!-- 5&#45;&gt;6 -->\n",
       "<g id=\"edge6\" class=\"edge\">\n",
       "<title>5&#45;&gt;6</title>\n",
       "<path fill=\"none\" stroke=\"black\" d=\"M614.59,-88.68C604.06,-79.63 592.65,-69.83 582.12,-60.79\"/>\n",
       "<polygon fill=\"black\" stroke=\"black\" points=\"584.53,-58.24 574.66,-54.38 579.97,-63.55 584.53,-58.24\"/>\n",
       "</g>\n",
       "<!-- 7 -->\n",
       "<g id=\"node8\" class=\"node\">\n",
       "<title>7</title>\n",
       "<polygon fill=\"#fae6d8\" stroke=\"black\" points=\"865.75,-53 663,-53 663,0 865.75,0 865.75,-53\"/>\n",
       "<text text-anchor=\"middle\" x=\"764.38\" y=\"-35.7\" font-family=\"Helvetica,sans-Serif\" font-size=\"14.00\">squared_error = 69846686.473</text>\n",
       "<text text-anchor=\"middle\" x=\"764.38\" y=\"-20.7\" font-family=\"Helvetica,sans-Serif\" font-size=\"14.00\">samples = 480</text>\n",
       "<text text-anchor=\"middle\" x=\"764.38\" y=\"-5.7\" font-family=\"Helvetica,sans-Serif\" font-size=\"14.00\">value = 31849.792</text>\n",
       "</g>\n",
       "<!-- 5&#45;&gt;7 -->\n",
       "<g id=\"edge7\" class=\"edge\">\n",
       "<title>5&#45;&gt;7</title>\n",
       "<path fill=\"none\" stroke=\"black\" d=\"M692.51,-88.68C703.14,-79.63 714.65,-69.83 725.28,-60.79\"/>\n",
       "<polygon fill=\"black\" stroke=\"black\" points=\"727.46,-63.52 732.81,-54.37 722.92,-58.19 727.46,-63.52\"/>\n",
       "</g>\n",
       "<!-- 9 -->\n",
       "<g id=\"node10\" class=\"node\">\n",
       "<title>9</title>\n",
       "<polygon fill=\"#fbede2\" stroke=\"black\" points=\"1202.75,-157 1000,-157 1000,-89 1202.75,-89 1202.75,-157\"/>\n",
       "<text text-anchor=\"middle\" x=\"1101.38\" y=\"-139.7\" font-family=\"Helvetica,sans-Serif\" font-size=\"14.00\">mileage &lt;= 39354.0</text>\n",
       "<text text-anchor=\"middle\" x=\"1101.38\" y=\"-124.7\" font-family=\"Helvetica,sans-Serif\" font-size=\"14.00\">squared_error = 144056000.18</text>\n",
       "<text text-anchor=\"middle\" x=\"1101.38\" y=\"-109.7\" font-family=\"Helvetica,sans-Serif\" font-size=\"14.00\">samples = 393</text>\n",
       "<text text-anchor=\"middle\" x=\"1101.38\" y=\"-94.7\" font-family=\"Helvetica,sans-Serif\" font-size=\"14.00\">value = 26382.191</text>\n",
       "</g>\n",
       "<!-- 8&#45;&gt;9 -->\n",
       "<g id=\"edge9\" class=\"edge\">\n",
       "<title>8&#45;&gt;9</title>\n",
       "<path fill=\"none\" stroke=\"black\" d=\"M1101.38,-192.6C1101.38,-185.03 1101.38,-176.87 1101.38,-168.9\"/>\n",
       "<polygon fill=\"black\" stroke=\"black\" points=\"1104.88,-168.99 1101.38,-158.99 1097.88,-168.99 1104.88,-168.99\"/>\n",
       "</g>\n",
       "<!-- 12 -->\n",
       "<g id=\"node13\" class=\"node\">\n",
       "<title>12</title>\n",
       "<polygon fill=\"#f5d1b6\" stroke=\"black\" points=\"1544.5,-157 1334.25,-157 1334.25,-89 1544.5,-89 1544.5,-157\"/>\n",
       "<text text-anchor=\"middle\" x=\"1439.38\" y=\"-139.7\" font-family=\"Helvetica,sans-Serif\" font-size=\"14.00\">mpg &lt;= 21.85</text>\n",
       "<text text-anchor=\"middle\" x=\"1439.38\" y=\"-124.7\" font-family=\"Helvetica,sans-Serif\" font-size=\"14.00\">squared_error = 337332693.059</text>\n",
       "<text text-anchor=\"middle\" x=\"1439.38\" y=\"-109.7\" font-family=\"Helvetica,sans-Serif\" font-size=\"14.00\">samples = 512</text>\n",
       "<text text-anchor=\"middle\" x=\"1439.38\" y=\"-94.7\" font-family=\"Helvetica,sans-Serif\" font-size=\"14.00\">value = 51377.176</text>\n",
       "</g>\n",
       "<!-- 8&#45;&gt;12 -->\n",
       "<g id=\"edge12\" class=\"edge\">\n",
       "<title>8&#45;&gt;12</title>\n",
       "<path fill=\"none\" stroke=\"black\" d=\"M1206.93,-194.15C1243.93,-182.98 1285.68,-170.38 1323.49,-158.97\"/>\n",
       "<polygon fill=\"black\" stroke=\"black\" points=\"1324.03,-162.46 1332.59,-156.22 1322.01,-155.76 1324.03,-162.46\"/>\n",
       "</g>\n",
       "<!-- 10 -->\n",
       "<g id=\"node11\" class=\"node\">\n",
       "<title>10</title>\n",
       "<polygon fill=\"#fae6d8\" stroke=\"black\" points=\"1094.5,-53 884.25,-53 884.25,0 1094.5,0 1094.5,-53\"/>\n",
       "<text text-anchor=\"middle\" x=\"989.38\" y=\"-35.7\" font-family=\"Helvetica,sans-Serif\" font-size=\"14.00\">squared_error = 122627239.155</text>\n",
       "<text text-anchor=\"middle\" x=\"989.38\" y=\"-20.7\" font-family=\"Helvetica,sans-Serif\" font-size=\"14.00\">samples = 227</text>\n",
       "<text text-anchor=\"middle\" x=\"989.38\" y=\"-5.7\" font-family=\"Helvetica,sans-Serif\" font-size=\"14.00\">value = 31919.33</text>\n",
       "</g>\n",
       "<!-- 9&#45;&gt;10 -->\n",
       "<g id=\"edge10\" class=\"edge\">\n",
       "<title>9&#45;&gt;10</title>\n",
       "<path fill=\"none\" stroke=\"black\" d=\"M1061.89,-88.68C1051.16,-79.63 1039.55,-69.83 1028.82,-60.79\"/>\n",
       "<polygon fill=\"black\" stroke=\"black\" points=\"1031.12,-58.14 1021.22,-54.37 1026.61,-63.49 1031.12,-58.14\"/>\n",
       "</g>\n",
       "<!-- 11 -->\n",
       "<g id=\"node12\" class=\"node\">\n",
       "<title>11</title>\n",
       "<polygon fill=\"#fdf5ef\" stroke=\"black\" points=\"1315.75,-53 1113,-53 1113,0 1315.75,0 1315.75,-53\"/>\n",
       "<text text-anchor=\"middle\" x=\"1214.38\" y=\"-35.7\" font-family=\"Helvetica,sans-Serif\" font-size=\"14.00\">squared_error = 74099436.928</text>\n",
       "<text text-anchor=\"middle\" x=\"1214.38\" y=\"-20.7\" font-family=\"Helvetica,sans-Serif\" font-size=\"14.00\">samples = 166</text>\n",
       "<text text-anchor=\"middle\" x=\"1214.38\" y=\"-5.7\" font-family=\"Helvetica,sans-Serif\" font-size=\"14.00\">value = 18810.319</text>\n",
       "</g>\n",
       "<!-- 9&#45;&gt;11 -->\n",
       "<g id=\"edge11\" class=\"edge\">\n",
       "<title>9&#45;&gt;11</title>\n",
       "<path fill=\"none\" stroke=\"black\" d=\"M1141.21,-88.68C1152.14,-79.54 1163.99,-69.64 1174.9,-60.51\"/>\n",
       "<polygon fill=\"black\" stroke=\"black\" points=\"1176.83,-63.46 1182.25,-54.36 1172.33,-58.1 1176.83,-63.46\"/>\n",
       "</g>\n",
       "<!-- 13 -->\n",
       "<g id=\"node14\" class=\"node\">\n",
       "<title>13</title>\n",
       "<polygon fill=\"#e58139\" stroke=\"black\" points=\"1544.5,-53 1334.25,-53 1334.25,0 1544.5,0 1544.5,-53\"/>\n",
       "<text text-anchor=\"middle\" x=\"1439.38\" y=\"-35.7\" font-family=\"Helvetica,sans-Serif\" font-size=\"14.00\">squared_error = 831819449.686</text>\n",
       "<text text-anchor=\"middle\" x=\"1439.38\" y=\"-20.7\" font-family=\"Helvetica,sans-Serif\" font-size=\"14.00\">samples = 11</text>\n",
       "<text text-anchor=\"middle\" x=\"1439.38\" y=\"-5.7\" font-family=\"Helvetica,sans-Serif\" font-size=\"14.00\">value = 122796.364</text>\n",
       "</g>\n",
       "<!-- 12&#45;&gt;13 -->\n",
       "<g id=\"edge13\" class=\"edge\">\n",
       "<title>12&#45;&gt;13</title>\n",
       "<path fill=\"none\" stroke=\"black\" d=\"M1439.38,-88.68C1439.38,-80.99 1439.38,-72.76 1439.38,-64.9\"/>\n",
       "<polygon fill=\"black\" stroke=\"black\" points=\"1442.88,-64.91 1439.38,-54.91 1435.88,-64.91 1442.88,-64.91\"/>\n",
       "</g>\n",
       "<!-- 14 -->\n",
       "<g id=\"node15\" class=\"node\">\n",
       "<title>14</title>\n",
       "<polygon fill=\"#f6d2b9\" stroke=\"black\" points=\"1772.5,-53 1562.25,-53 1562.25,0 1772.5,0 1772.5,-53\"/>\n",
       "<text text-anchor=\"middle\" x=\"1667.38\" y=\"-35.7\" font-family=\"Helvetica,sans-Serif\" font-size=\"14.00\">squared_error = 212025379.008</text>\n",
       "<text text-anchor=\"middle\" x=\"1667.38\" y=\"-20.7\" font-family=\"Helvetica,sans-Serif\" font-size=\"14.00\">samples = 501</text>\n",
       "<text text-anchor=\"middle\" x=\"1667.38\" y=\"-5.7\" font-family=\"Helvetica,sans-Serif\" font-size=\"14.00\">value = 49809.09</text>\n",
       "</g>\n",
       "<!-- 12&#45;&gt;14 -->\n",
       "<g id=\"edge14\" class=\"edge\">\n",
       "<title>12&#45;&gt;14</title>\n",
       "<path fill=\"none\" stroke=\"black\" d=\"M1520.08,-88.55C1544.3,-78.51 1570.71,-67.57 1594.39,-57.75\"/>\n",
       "<polygon fill=\"black\" stroke=\"black\" points=\"1595.42,-61.11 1603.31,-54.05 1592.74,-54.65 1595.42,-61.11\"/>\n",
       "</g>\n",
       "</g>\n",
       "</svg>\n"
      ],
      "text/plain": [
       "<graphviz.sources.Source at 0x15aa843d0>"
      ]
     },
     "execution_count": 21,
     "metadata": {},
     "output_type": "execute_result"
    }
   ],
   "source": [
    "## Visualize a shallow tree (max_depth=3)\n",
    "## If you're using your local computer, you can use `pip install graphviz`\n",
    "# and `brew install graphviz` (on MAC) to install the package\n",
    "from sklearn.tree import export_graphviz\n",
    "import graphviz\n",
    "\n",
    "max_depth = 3\n",
    "model = question_3_2(X_train, y_train, random_state, max_depth, min_samples_split)\n",
    "dot_data = export_graphviz(model, out_file=None, feature_names=X.columns, filled=True)\n",
    "\n",
    "graph = graphviz.Source(dot_data, format=\"png\") \n",
    "graph"
   ]
  },
  {
   "cell_type": "markdown",
   "id": "96aa619c",
   "metadata": {},
   "source": [
    "if you're interested in visualizing tree models, [`dtreeviz`](https://github.com/parrt/dtreeviz) is another cool package can help you with variety of ways to visualize the tree."
   ]
  },
  {
   "cell_type": "markdown",
   "id": "f5828683",
   "metadata": {},
   "source": [
    "Let's say we want to make a prediction for this sample:"
   ]
  },
  {
   "cell_type": "code",
   "execution_count": 22,
   "id": "a1fd715b",
   "metadata": {},
   "outputs": [
    {
     "data": {
      "text/html": [
       "<div>\n",
       "<style scoped>\n",
       "    .dataframe tbody tr th:only-of-type {\n",
       "        vertical-align: middle;\n",
       "    }\n",
       "\n",
       "    .dataframe tbody tr th {\n",
       "        vertical-align: top;\n",
       "    }\n",
       "\n",
       "    .dataframe thead th {\n",
       "        text-align: right;\n",
       "    }\n",
       "</style>\n",
       "<table border=\"1\" class=\"dataframe\">\n",
       "  <thead>\n",
       "    <tr style=\"text-align: right;\">\n",
       "      <th></th>\n",
       "      <th>brand</th>\n",
       "      <th>model</th>\n",
       "      <th>year</th>\n",
       "      <th>transmission</th>\n",
       "      <th>mileage</th>\n",
       "      <th>fuelType</th>\n",
       "      <th>tax</th>\n",
       "      <th>mpg</th>\n",
       "      <th>engineSize</th>\n",
       "    </tr>\n",
       "  </thead>\n",
       "  <tbody>\n",
       "    <tr>\n",
       "      <th>4929</th>\n",
       "      <td>2</td>\n",
       "      <td>22</td>\n",
       "      <td>2019</td>\n",
       "      <td>3</td>\n",
       "      <td>7055</td>\n",
       "      <td>0</td>\n",
       "      <td>145.0</td>\n",
       "      <td>37.2</td>\n",
       "      <td>2.0</td>\n",
       "    </tr>\n",
       "  </tbody>\n",
       "</table>\n",
       "</div>"
      ],
      "text/plain": [
       "      brand  model  year  transmission  mileage  fuelType    tax   mpg  \\\n",
       "4929      2     22  2019             3     7055         0  145.0  37.2   \n",
       "\n",
       "      engineSize  \n",
       "4929         2.0  "
      ]
     },
     "execution_count": 22,
     "metadata": {},
     "output_type": "execute_result"
    }
   ],
   "source": [
    "## show 1 sample\n",
    "X_test[13:14]"
   ]
  },
  {
   "cell_type": "code",
   "execution_count": 23,
   "id": "609bae0b",
   "metadata": {},
   "outputs": [
    {
     "name": "stdout",
     "output_type": "stream",
     "text": [
      "Actual price of the car: £30,970\n",
      "Model predicts for the car: £31,849.79\n"
     ]
    }
   ],
   "source": [
    "print(f\"Actual price of the car: £{y_test.iloc[13]:,}\")\n",
    "\n",
    "## Let's see what the model predicts for the car\n",
    "print(f\"Model predicts for the car: £{model.predict(X_test[13:14])[0]:,.2f}\")"
   ]
  },
  {
   "cell_type": "markdown",
   "id": "d8973966",
   "metadata": {},
   "source": [
    "**Question:** Explain how the decision tree made that prediction by pointing out the path from the root to its leaf."
   ]
  },
  {
   "cell_type": "markdown",
   "id": "62665458",
   "metadata": {},
   "source": [
    "Write your answer in this block\n",
    "\n",
    "**Answer:**"
   ]
  },
  {
   "cell_type": "markdown",
   "id": "140a3d87",
   "metadata": {},
   "source": [
    "# **Question 4.** Boosting  (*20 total points*)"
   ]
  },
  {
   "cell_type": "markdown",
   "id": "e700cc57",
   "metadata": {},
   "source": [
    "Gradient boosting builds a sum of predictors using a greedy stagewise method. First, we fit a predictor to the data to obtain an initial model. Now repeat: Compute the appropriate weight at each data point; then fit a predictor using these weights; search for the best weight with which to add this predictor to the current model; and add the weighted predictor to the current model. Stop by looking at validation error. The weight is a partial derivative of the loss with respect to the predictor, evaluated at the current value of the predictor."
   ]
  },
  {
   "cell_type": "markdown",
   "id": "437c46c7",
   "metadata": {},
   "source": [
    "The mystic behind Boosting is in principal the same as for Random Forest models: *A bunch of weak learners which performs just slightly better than random guessing can be combined to make better predictions than one strong learner.*"
   ]
  },
  {
   "cell_type": "code",
   "execution_count": 25,
   "id": "e1a356c3",
   "metadata": {},
   "outputs": [
    {
     "data": {
      "image/png": "[encoded data removed]",
      "text/plain": [
       "<IPython.core.display.Image object>"
      ]
     },
     "execution_count": 25,
     "metadata": {},
     "output_type": "execute_result"
    }
   ],
   "source": [
    "## The idea of gradient boosting tree\n",
    "from IPython import display\n",
    "display.Image(\"https://raw.githubusercontent.com/chaudatascience/cs599_fall2022/master/ps4/boosting2.png\")"
   ]
  },
  {
   "cell_type": "markdown",
   "id": "48a79906",
   "metadata": {},
   "source": [
    "Different from the Random Forest approach where we created an ensemble of tree models in parallel, we now create the ensemble in sequence, where the set up of the actual tree is influenced by the outputs of all the previous tree models by altering the weights of the dataset, the tree model is built on."
   ]
  },
  {
   "cell_type": "markdown",
   "id": "3c023539",
   "metadata": {},
   "source": [
    "There are some well-used gradient boosting tree algorithms, such as [LightGBM](https://lightgbm.readthedocs.io/en/v3.3.2/), [XGboost](https://xgboost.readthedocs.io/en/stable/), and [Catboost](https://catboost.ai/). In this section, we will get into XGboost to see how we can apply it to the used car dataset.\n",
    "\n",
    "\n",
    "[XGBoost](https://xgboost.readthedocs.io/en/stable/tutorials/model.html), which stands for Extreme Gradient Boosting, is a scalable, distributed gradient-boosted decision tree (GBDT) machine learning library. It’s a parallelized and carefully optimized version of the gradient boosting algorithm for regression, classification, and ranking problems. XGBoost is one of the go-to algorithms for tabular data due to its efficiency. Some big companies use Xgboost for their prediction models, such as Uber has been [using XGboost for arrival time predictions (ETA)](https://www.uber.com/blog/deepeta-how-uber-predicts-arrival-times/). \n",
    "\n",
    "Let's train a XGBoost on the used car dataset."
   ]
  },
  {
   "cell_type": "markdown",
   "id": "00562e9a",
   "metadata": {},
   "source": [
    "## **4.1 Code:** XGboost *(10 pts)*"
   ]
  },
  {
   "cell_type": "markdown",
   "id": "3c444257",
   "metadata": {},
   "source": [
    "For this question, you can refer to the document of `XGBRegressor` [here](https://xgboost.readthedocs.io/en/stable/python/python_api.html#xgboost.XGBRegressor)"
   ]
  },
  {
   "cell_type": "code",
   "execution_count": null,
   "id": "9ac14259",
   "metadata": {},
   "outputs": [],
   "source": [
    "import xgboost as xgb\n",
    "\n",
    "\n",
    "def question_4_1(X_train: np.ndarray, y_train: np.ndarray, X_test: np.ndarray, y_test: np.ndarray) -> xgb.XGBRegressor:\n",
    "    \"\"\"\n",
    "        Train a XGBRegressor model on X_train, y_train\n",
    "        Return a trained xgb.XGBRegressor\n",
    "    \"\"\"\n",
    "    # Write your code in this block -----------------------------------------------------------\n",
    "   \n",
    "    ## Step 1: initialize a `XGBRegressor` object, with objective='reg:squarederror' (loss function), \n",
    "    # `n_estimators` = 150 (i.e., the number of trees),  `learning_rate`=0.2 and `random_state`=2022\n",
    "\n",
    "\n",
    "\n",
    "    ## Step 2: fit the model on X_train, y_train\n",
    "    # In `fit()`, pass (X_train, y_train), (X_test, y_test) as  2 datasets for `eval_set`. You should refer to\n",
    "    # the document to see how to use `eval_set` with `fit()` \n",
    "    \n",
    "    \n",
    "    ## Step 3: return the trained model\n",
    "\n",
    "\n",
    "    # End of your code ------------------------------------------------------------------------      \n",
    "\n",
    "\n",
    "### test your model\n",
    "xgb_model = question_4_1(X_train, y_train, X_test, y_test) \n",
    "train_pred = xgb_model.predict(X_train)\n",
    "test_pred = xgb_model.predict(X_test)\n",
    "print(\"Root Mean Square Error on training set:\", question_3_3(y_train, train_pred))\n",
    "print(\"Root Mean Square Error on test set:\", question_3_3(y_test, test_pred))"
   ]
  },
  {
   "cell_type": "markdown",
   "id": "01403bd3",
   "metadata": {},
   "source": [
    "We can observe that Xgboost perform much beter than the regression tree (lower RMSE) on this dataset."
   ]
  },
  {
   "cell_type": "markdown",
   "id": "2a83bed1",
   "metadata": {},
   "source": [
    "## **4.2 Graph:** Plot train and test errors *(10 pts)*\n",
    "`XGBRegressor` objects have `.evals_result()` which stores all the training and validation losses.\n"
   ]
  },
  {
   "cell_type": "code",
   "execution_count": 27,
   "id": "fff65dc9",
   "metadata": {},
   "outputs": [
    {
     "name": "stdout",
     "output_type": "stream",
     "text": [
      "dict_keys(['validation_0', 'validation_1'])\n"
     ]
    }
   ],
   "source": [
    "results = xgb_model.evals_result()\n",
    "print(results.keys())"
   ]
  },
  {
   "cell_type": "code",
   "execution_count": 28,
   "id": "881f7cd9",
   "metadata": {},
   "outputs": [
    {
     "data": {
      "image/png": "[encoded data removed]",
      "text/plain": [
       "<Figure size 1000x700 with 1 Axes>"
      ]
     },
     "metadata": {},
     "output_type": "display_data"
    }
   ],
   "source": [
    "### Generate the code to plot traning loss and validation loss from `results`\n",
    "\n",
    "def question_4_2(results: Dict) -> None:\n",
    "    # Write your code in this block -----------------------------------------------------------\n",
    "  \n",
    "  \n",
    "    # End of your code ------------------------------------------------------------------------      \n",
    "\n",
    "\n",
    "## Test your code: You should have a similar plot as below\n",
    "# No need to be exactly the same (can be different in style, color), but MUST have legend and titles\n",
    "question_4_2(results)"
   ]
  },
  {
   "cell_type": "markdown",
   "id": "d216d4b1",
   "metadata": {},
   "source": [
    "**Feature Importance**\n",
    "\n",
    "Generally, feature importance provides a score that indicates how useful or valuable each feature was in the construction of the boosting trees within the model. It gives us a general idea of which features are more importance."
   ]
  },
  {
   "cell_type": "code",
   "execution_count": null,
   "id": "9c4fa753",
   "metadata": {},
   "outputs": [],
   "source": [
    "## There are some options for `importance_type`,\n",
    "# each may return a different result for feature importance\n",
    "# you can refer to the document of XGBoost for more detail.\n",
    "xgb.plot_importance(xgb_model, importance_type='weight')"
   ]
  },
  {
   "cell_type": "markdown",
   "id": "0f89d9af",
   "metadata": {},
   "source": [
    "This suggests that \"mileage\", \"model\" and \"mpg\" are the most important features for the xgboost model to predict \"price\" of a used car in the dataset."
   ]
  },
  {
   "cell_type": "markdown",
   "id": "5330190b",
   "metadata": {},
   "source": [
    "# **Question 5.** Linear regression models (*20 total points*)"
   ]
  },
  {
   "cell_type": "markdown",
   "id": "7125e6f9",
   "metadata": {},
   "source": [
    "At http://www.statsci.org/data/general/kittiwak.txt, you can find an existing dataset\n",
    "collected by D.K. Cairns in 1988 that analysed the relation between population and foraging area for seabird colonies."
   ]
  },
  {
   "cell_type": "markdown",
   "id": "634acc96",
   "metadata": {},
   "source": [
    "We will use this dataset to fit simple regression models and analyze their performance."
   ]
  },
  {
   "cell_type": "markdown",
   "id": "2cfaeeb1",
   "metadata": {},
   "source": [
    "## **5.1 Code:** Fitting regression model (*5 pts*)"
   ]
  },
  {
   "cell_type": "markdown",
   "id": "ea449668",
   "metadata": {},
   "source": [
    "**Question**:  Using the 22 data points that you have to copy directly into the following code block from the website, fit a regression line for the relationship between the population size and the log area for the seabird (i.e., kittiwake) colonies. The x-axis should represent the log area, while the y-axis should show the population size.\n"
   ]
  },
  {
   "cell_type": "markdown",
   "id": "2f91800a",
   "metadata": {},
   "source": [
    "We will use this dataset to fit simple regression models and analyse their performance."
   ]
  },
  {
   "cell_type": "code",
   "execution_count": null,
   "id": "0dc2f1b3",
   "metadata": {},
   "outputs": [],
   "source": [
    "from sklearn.linear_model import LinearRegression\n",
    "\n",
    "\n",
    "##Write your answer/code in this block"
   ]
  },
  {
   "cell_type": "markdown",
   "id": "cd79f58e",
   "metadata": {},
   "source": [
    "## **5.2 Short answer:** Performance Analysis *(5 pts)*"
   ]
  },
  {
   "cell_type": "markdown",
   "id": "d54ed0c9",
   "metadata": {},
   "source": [
    "**Question**: Based on your result from question 5.1 how well does your regression model explains the data? If you had a large island,to what extent would you trust the prediction \n",
    "produced by this regression? If you had a small island, would you trust the answer more? Why?"
   ]
  },
  {
   "cell_type": "markdown",
   "id": "21b6b7ad",
   "metadata": {},
   "source": [
    "Write your answer in this block\n",
    "\n",
    "**Answer:**"
   ]
  },
  {
   "cell_type": "markdown",
   "id": "395864b6",
   "metadata": {},
   "source": [
    "## **5.3 Code:** Plotting regression model without outliers *(5 pts)*"
   ]
  },
  {
   "cell_type": "markdown",
   "id": "09e51ce5",
   "metadata": {},
   "source": [
    "**Question**: Using the same 22 data points, fit a regression model while excluding the two most obvious outliers. You should includes **all 22 data points** in the final plot.\n"
   ]
  },
  {
   "cell_type": "markdown",
   "id": "b74f45b0",
   "metadata": {},
   "source": [
    "You can use LinearRegression from Sklearn to fit a regression model."
   ]
  },
  {
   "cell_type": "code",
   "execution_count": null,
   "id": "530ec9d5",
   "metadata": {},
   "outputs": [],
   "source": [
    "from sklearn.linear_model import LinearRegression\n",
    "\n",
    "\n",
    "##Write your answer/code in this block"
   ]
  },
  {
   "cell_type": "markdown",
   "id": "25bf1e06",
   "metadata": {},
   "source": [
    "## **5.4 Short answer:** Comparing linear regression models *(5 pts)*"
   ]
  },
  {
   "cell_type": "markdown",
   "id": "6f530628",
   "metadata": {},
   "source": [
    "**Question**:  Compare the plots from questions 5.1 and 5.2. Based on your linear regression result from question 5.2, which excludes two likely outliers, would you trust the predictions of this regression model more? Why or why not?"
   ]
  },
  {
   "cell_type": "markdown",
   "id": "89da4888",
   "metadata": {},
   "source": [
    "Write your answer in this block\n",
    "\n",
    "**Answer:**"
   ]
  },
  {
   "cell_type": "markdown",
   "id": "eff1e2ac",
   "metadata": {
    "id": "eff1e2ac"
   },
   "source": [
    "**Congrats! You have reached to the end of Pset3**"
   ]
  }
 ],
 "metadata": {
  "colab": {
   "collapsed_sections": [],
   "provenance": [],
   "toc_visible": true
  },
  "hide_input": false,
  "kernelspec": {
   "display_name": "Python 3 (ipykernel)",
   "language": "python",
   "name": "python3"
  },
  "language_info": {
   "codemirror_mode": {
    "name": "ipython",
    "version": 3
   },
   "file_extension": ".py",
   "mimetype": "text/x-python",
   "name": "python",
   "nbconvert_exporter": "python",
   "pygments_lexer": "ipython3",
   "version": "3.9.13"
  },
  "toc": {
   "base_numbering": 1,
   "nav_menu": {},
   "number_sections": true,
   "sideBar": true,
   "skip_h1_title": false,
   "title_cell": "Table of Contents",
   "title_sidebar": "Contents",
   "toc_cell": false,
   "toc_position": {
    "height": "calc(100% - 180px)",
    "left": "10px",
    "top": "150px",
    "width": "326.2px"
   },
   "toc_section_display": true,
   "toc_window_display": true
  }
 },
 "nbformat": 4,
 "nbformat_minor": 5
}
