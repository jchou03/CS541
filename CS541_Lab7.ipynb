{
  "nbformat": 4,
  "nbformat_minor": 0,
  "metadata": {
    "colab": {
      "provenance": [],
      "gpuType": "T4"
    },
    "kernelspec": {
      "name": "python3",
      "display_name": "Python 3"
    },
    "language_info": {
      "name": "python"
    },
    "accelerator": "GPU"
  },
  "cells": [
    {
      "cell_type": "markdown",
      "source": [
        "# CS541: Applied Machine Learning, Fall 2024, Lab 7\n",
        "\n",
        "Lab 7 is an exercise that explores Neural Networks. Neural Networks are models inspired by the structure and function of biological neural networks in animal brains. Their capacity to learn from data has far-reaching effects, ranging from revolutionizing technology like natural language processing and self-driving automobiles. They can be used to solve numerious tasks ranging from predicting stock prices, personalize content recommendations and even perform object recognition.\n",
        "\n",
        "**Lab Grading**\n",
        "\n",
        "Labs are hands-on exercises designed to provide guided experience in key concepts through this class.  You are graded based on in-lab participation (not correctness), and are not required to submit your lab if you attend in-person.  *Make sure you fill out the attendence form before leaving class*.\n",
        "\n",
        "For students who miss a lab, you can submit a make-up lab on gradescope by the Friday directly following the lab for partial credit.  Please see the syllabus for the lab grading policy."
      ],
      "metadata": {
        "id": "Fs6DRDm-872a"
      }
    },
    {
      "cell_type": "code",
      "source": [
        "import torch\n",
        "import torch.nn as nn\n",
        "import torch.optim as optim\n",
        "import torchvision\n",
        "import torchvision.transforms as transforms\n",
        "\n",
        "import numpy as np\n",
        "import matplotlib.pyplot as plt"
      ],
      "metadata": {
        "id": "zWW6bx-cofE0"
      },
      "execution_count": null,
      "outputs": []
    },
    {
      "cell_type": "markdown",
      "source": [
        "### What are tensors?"
      ],
      "metadata": {
        "id": "m6mU7wEzf4yT"
      }
    },
    {
      "cell_type": "markdown",
      "source": [
        "Think of them as numpy arrays, but on steroids.\n",
        "\n",
        "You can do all the operations on them as you can with numpy, but they can also run on GPUs and hold gradient information about the tensor."
      ],
      "metadata": {
        "id": "HHl6soBMn38X"
      }
    },
    {
      "cell_type": "markdown",
      "source": [
        "Go over some examples here: https://pytorch.org/tutorials/beginner/blitz/tensor_tutorial.html"
      ],
      "metadata": {
        "id": "M4Wvk4d2oUjj"
      }
    },
    {
      "cell_type": "markdown",
      "source": [
        "### Implementing Linear regression in Pytorch."
      ],
      "metadata": {
        "id": "IFYBXFaNflTK"
      }
    },
    {
      "cell_type": "code",
      "execution_count": null,
      "metadata": {
        "colab": {
          "base_uri": "https://localhost:8080/",
          "height": 430
        },
        "id": "VElzEUq90_B4",
        "outputId": "c79c8a15-2e17-41f9-9a1a-270b5d2cda25"
      },
      "outputs": [
        {
          "output_type": "display_data",
          "data": {
            "text/plain": [
              "<Figure size 640x480 with 1 Axes>"
            ],
            "image/png": "[encoded data removed]"
          },
          "metadata": {}
        }
      ],
      "source": [
        "\n",
        "# Generate random data\n",
        "np.random.seed(0)\n",
        "X = np.random.rand(100, 1)\n",
        "y = 2 * X + 1 + np.random.rand(100, 1)\n",
        "\n",
        "# Convert data to PyTorch tensors\n",
        "X_tensor = torch.from_numpy(X).float()\n",
        "y_tensor = torch.from_numpy(y).float()\n",
        "\n",
        "# Define the model\n",
        "model = nn.Linear(1, 1)\n",
        "\n",
        "# Define the loss function and the optimizer\n",
        "criterion = nn.MSELoss()\n",
        "optimizer = torch.optim.SGD(model.parameters(), lr=0.1)\n",
        "\n",
        "# Training the model\n",
        "for epoch in range(100):\n",
        "    y_pred = model(X_tensor)\n",
        "    loss = criterion(y_pred, y_tensor)\n",
        "    optimizer.zero_grad()\n",
        "    loss.backward()\n",
        "    optimizer.step()\n",
        "\n",
        "# Plotting the results\n",
        "plt.scatter(X, y, color='b')\n",
        "plt.plot(X, model(X_tensor).data.numpy(), color='r')\n",
        "plt.show()"
      ]
    },
    {
      "cell_type": "markdown",
      "source": [
        "### Implementing Multi-layer Perceptron - Your first simple neural network\n",
        "\n",
        "Think of neural networks as a multiple layers of many perceptrons (neurons).\n",
        "So, you have many neurons and you have sheets of such many neurons stacked together.\n",
        "\n",
        "Why do we need this?\n",
        "\n",
        "To be able to fit complicated data - which is most data in real life.\n",
        "\n",
        "### Let's first make a complicated curve we need to fit."
      ],
      "metadata": {
        "id": "f7Lw7YwhgGcx"
      }
    },
    {
      "cell_type": "code",
      "source": [
        "# Create a complicated curve\n",
        "X = np.linspace(-2, 2, 100)\n",
        "y = np.sin(2 * np.pi * X) + np.sin(3 * np.pi * X)\n",
        "\n",
        "# Convert data to PyTorch tensors\n",
        "X = torch.from_numpy(X).float().view(-1, 1)\n",
        "y = torch.from_numpy(y).float().view(-1, 1)\n",
        "\n",
        "plt.plot(X.numpy(), y.numpy(), 'ro', label='Original data')\n",
        "plt.show()"
      ],
      "metadata": {
        "colab": {
          "base_uri": "https://localhost:8080/",
          "height": 430
        },
        "id": "BDDKZYVquO_s",
        "outputId": "be727d17-5684-4f8c-cd90-0cf5db2ed4b7"
      },
      "execution_count": null,
      "outputs": [
        {
          "output_type": "display_data",
          "data": {
            "text/plain": [
              "<Figure size 640x480 with 1 Axes>"
            ],
            "image/png": "[encoded data removed]"
          },
          "metadata": {}
        }
      ]
    },
    {
      "cell_type": "markdown",
      "source": [
        "### Let's first implement a one-layer perceptron"
      ],
      "metadata": {
        "id": "8SD7CHtCrcoS"
      }
    },
    {
      "cell_type": "code",
      "source": [
        "# Define the Multi-Layer Perceptron (MLP) model\n",
        "class OneLayerMLP(nn.Module):\n",
        "    def __init__(self, input_size, hidden_size, output_size):\n",
        "        super(OneLayerMLP, self).__init__()\n",
        "        self.fc1 = nn.Linear(input_size, hidden_size)\n",
        "\n",
        "    def forward(self, x):\n",
        "        out = self.fc1(x)\n",
        "\n",
        "        return out\n",
        "\n",
        "# Set hyperparameters\n",
        "input_size = 1\n",
        "hidden_size = 100\n",
        "output_size = 1\n",
        "learning_rate = 0.01\n",
        "num_epochs = 1000\n",
        "\n",
        "# Initialize the model, loss function, and optimizer\n",
        "model = OneLayerMLP(input_size, hidden_size, output_size)\n",
        "criterion = nn.MSELoss()\n",
        "optimizer = torch.optim.Adam(model.parameters(), lr=learning_rate)\n"
      ],
      "metadata": {
        "id": "o0qHogvJrca_"
      },
      "execution_count": null,
      "outputs": []
    },
    {
      "cell_type": "code",
      "source": [
        "# Training the model\n",
        "for epoch in range(num_epochs):\n",
        "    # Forward pass\n",
        "    outputs = model(X)\n",
        "    loss = criterion(outputs, y)\n",
        "\n",
        "    # Backward pass and optimization\n",
        "    optimizer.zero_grad()\n",
        "    loss.backward()\n",
        "    optimizer.step()\n",
        "\n",
        "    if (epoch + 1) % 100 == 0:\n",
        "        print(f'Epoch [{epoch+1}/{num_epochs}], Loss: {loss.item():.4f}')"
      ],
      "metadata": {
        "colab": {
          "base_uri": "https://localhost:8080/"
        },
        "id": "pqzPzFsUvJTY",
        "outputId": "e1990dc7-b609-4237-b340-584951ef9147"
      },
      "execution_count": null,
      "outputs": [
        {
          "output_type": "stream",
          "name": "stderr",
          "text": [
            "/usr/local/lib/python3.10/dist-packages/torch/nn/modules/loss.py:538: UserWarning: Using a target size (torch.Size([100, 1])) that is different to the input size (torch.Size([100, 100])). This will likely lead to incorrect results due to broadcasting. Please ensure they have the same size.\n",
            "  return F.mse_loss(input, target, reduction=self.reduction)\n"
          ]
        },
        {
          "output_type": "stream",
          "name": "stdout",
          "text": [
            "Epoch [100/1000], Loss: 0.9607\n",
            "Epoch [200/1000], Loss: 0.9403\n",
            "Epoch [300/1000], Loss: 0.9401\n",
            "Epoch [400/1000], Loss: 0.9401\n",
            "Epoch [500/1000], Loss: 0.9401\n",
            "Epoch [600/1000], Loss: 0.9401\n",
            "Epoch [700/1000], Loss: 0.9401\n",
            "Epoch [800/1000], Loss: 0.9401\n",
            "Epoch [900/1000], Loss: 0.9401\n",
            "Epoch [1000/1000], Loss: 0.9401\n"
          ]
        }
      ]
    },
    {
      "cell_type": "code",
      "source": [
        "# Plotting the results\n",
        "model.eval()\n",
        "with torch.no_grad():\n",
        "    predicted = model(X)\n",
        "    plt.plot(X.numpy(), y.numpy(), 'ro', label='Original data')\n",
        "    plt.plot(X.numpy(), predicted.numpy(), 'b',)\n",
        "    plt.legend()\n",
        "    plt.show()"
      ],
      "metadata": {
        "colab": {
          "base_uri": "https://localhost:8080/",
          "height": 430
        },
        "id": "C0jIGJ5UvLRg",
        "outputId": "05681829-690d-4629-ea1b-04b37053843e"
      },
      "execution_count": null,
      "outputs": [
        {
          "output_type": "display_data",
          "data": {
            "text/plain": [
              "<Figure size 640x480 with 1 Axes>"
            ],
            "image/png": "[encoded data removed]"
          },
          "metadata": {}
        }
      ]
    },
    {
      "cell_type": "markdown",
      "source": [
        "### Now, let's make multiple layers"
      ],
      "metadata": {
        "id": "y3XWNrlNuvUC"
      }
    },
    {
      "cell_type": "code",
      "source": [
        "# Define the Multi-Layer Perceptron model\n",
        "class MLP(nn.Module):\n",
        "    def __init__(self, input_size, hidden_size, output_size):\n",
        "        super(MLP, self).__init__()\n",
        "        self.fc1 = nn.Linear(input_size, hidden_size)\n",
        "\n",
        "        self.fc2 = nn.Linear(hidden_size, output_size)\n",
        "\n",
        "    def forward(self, x):\n",
        "        a1 = self.fc1(x)\n",
        "\n",
        "        out = self.fc2(a1)\n",
        "        return out\n",
        "\n",
        "# Set hyperparameters\n",
        "input_size = 1\n",
        "hidden_size = 100\n",
        "output_size = 1\n",
        "learning_rate = 0.01\n",
        "num_epochs = 1000\n",
        "\n",
        "# Initialize the model, loss function, and optimizer\n",
        "model = MLP(input_size, hidden_size, output_size)\n",
        "criterion = nn.MSELoss()\n",
        "optimizer = torch.optim.Adam(model.parameters(), lr=learning_rate)\n",
        "\n"
      ],
      "metadata": {
        "id": "M2ajlpq-uwDv"
      },
      "execution_count": null,
      "outputs": []
    },
    {
      "cell_type": "code",
      "source": [
        "# Training the model\n",
        "for epoch in range(num_epochs):\n",
        "    # Forward pass\n",
        "    outputs = model(X)\n",
        "    loss = criterion(outputs, y)\n",
        "\n",
        "    # Backward pass and optimization\n",
        "    optimizer.zero_grad()\n",
        "    loss.backward()\n",
        "    optimizer.step()\n",
        "\n",
        "    if (epoch + 1) % 100 == 0:\n",
        "        print(f'Epoch [{epoch+1}/{num_epochs}], Loss: {loss.item():.4f}')\n",
        "\n"
      ],
      "metadata": {
        "colab": {
          "base_uri": "https://localhost:8080/"
        },
        "id": "ky7XlleJvNFP",
        "outputId": "fdfccc96-dbf9-4a5c-9f22-c04fe445881b"
      },
      "execution_count": null,
      "outputs": [
        {
          "output_type": "stream",
          "name": "stdout",
          "text": [
            "Epoch [100/1000], Loss: 0.9401\n",
            "Epoch [200/1000], Loss: 0.9401\n",
            "Epoch [300/1000], Loss: 0.9401\n",
            "Epoch [400/1000], Loss: 0.9401\n",
            "Epoch [500/1000], Loss: 0.9401\n",
            "Epoch [600/1000], Loss: 0.9401\n",
            "Epoch [700/1000], Loss: 0.9401\n",
            "Epoch [800/1000], Loss: 0.9401\n",
            "Epoch [900/1000], Loss: 0.9402\n",
            "Epoch [1000/1000], Loss: 0.9401\n"
          ]
        }
      ]
    },
    {
      "cell_type": "code",
      "source": [
        "# Plotting the results\n",
        "model.eval()\n",
        "with torch.no_grad():\n",
        "    predicted = model(X)\n",
        "    plt.plot(X.numpy(), y.numpy(), 'ro', label='Original data')\n",
        "    plt.plot(X.numpy(), predicted.numpy(), 'b',)\n",
        "    plt.legend()\n",
        "    plt.show()"
      ],
      "metadata": {
        "colab": {
          "base_uri": "https://localhost:8080/",
          "height": 430
        },
        "id": "esSV0MwcvOae",
        "outputId": "f6808acd-4cd8-49ac-edb0-98f7cc3d9507"
      },
      "execution_count": null,
      "outputs": [
        {
          "output_type": "display_data",
          "data": {
            "text/plain": [
              "<Figure size 640x480 with 1 Axes>"
            ],
            "image/png": "[encoded data removed]"
          },
          "metadata": {}
        }
      ]
    },
    {
      "cell_type": "markdown",
      "source": [
        "Did it change the performance? Not really. Why?\n",
        "\n",
        "Becuase multiple layers of linear functions are still linear.\n",
        "\n",
        "We need to add some non-linearity to make complicated functions.\n",
        "\n",
        "### Let's add non-linearity:"
      ],
      "metadata": {
        "id": "AR_ObURPvS4L"
      }
    },
    {
      "cell_type": "code",
      "source": [
        "class MLP(nn.Module):\n",
        "    def __init__(self, input_size, hidden_size, output_size):\n",
        "        super(MLP, self).__init__()\n",
        "        self.fc1 = nn.Linear(input_size, hidden_size)\n",
        "        self.relu = nn.ReLU()\n",
        "        self.fc2 = nn.Linear(hidden_size, output_size)\n",
        "\n",
        "    def forward(self, x):\n",
        "        out = self.fc1(x)\n",
        "        out = self.relu(out)\n",
        "        out = self.fc2(out)\n",
        "        return out\n",
        "\n",
        "# Set hyperparameters\n",
        "input_size = 1\n",
        "hidden_size = 100\n",
        "output_size = 1\n",
        "learning_rate = 0.01\n",
        "num_epochs = 1000\n",
        "\n",
        "# Initialize the model, loss function, and optimizer\n",
        "model = MLP(input_size, hidden_size, output_size)\n",
        "criterion = nn.MSELoss()\n",
        "optimizer = torch.optim.Adam(model.parameters(), lr=learning_rate)"
      ],
      "metadata": {
        "id": "x4UpLisSvfGi"
      },
      "execution_count": null,
      "outputs": []
    },
    {
      "cell_type": "code",
      "source": [
        "# Training the model\n",
        "for epoch in range(num_epochs):\n",
        "    # Forward pass\n",
        "    outputs = model(X)\n",
        "    loss = criterion(outputs, y)\n",
        "\n",
        "    # Backward pass and optimization\n",
        "    optimizer.zero_grad()\n",
        "    loss.backward()\n",
        "    optimizer.step()\n",
        "\n",
        "    if (epoch + 1) % 100 == 0:\n",
        "        print(f'Epoch [{epoch+1}/{num_epochs}], Loss: {loss.item():.4f}')"
      ],
      "metadata": {
        "colab": {
          "base_uri": "https://localhost:8080/"
        },
        "id": "qMlCmQVVvkSl",
        "outputId": "09d6d775-d16d-444b-b035-fb3d9fc24828"
      },
      "execution_count": null,
      "outputs": [
        {
          "output_type": "stream",
          "name": "stdout",
          "text": [
            "Epoch [100/1000], Loss: 0.6979\n",
            "Epoch [200/1000], Loss: 0.4505\n",
            "Epoch [300/1000], Loss: 0.2953\n",
            "Epoch [400/1000], Loss: 0.2547\n",
            "Epoch [500/1000], Loss: 0.2416\n",
            "Epoch [600/1000], Loss: 0.2377\n",
            "Epoch [700/1000], Loss: 0.2318\n",
            "Epoch [800/1000], Loss: 0.2305\n",
            "Epoch [900/1000], Loss: 0.2280\n",
            "Epoch [1000/1000], Loss: 0.2421\n"
          ]
        }
      ]
    },
    {
      "cell_type": "code",
      "source": [
        "# Plotting the results\n",
        "model.eval()\n",
        "with torch.no_grad():\n",
        "    predicted = model(X)\n",
        "    plt.plot(X.numpy(), y.numpy(), 'ro', label='Original data')\n",
        "    plt.plot(X.numpy(), predicted.numpy(), 'b',)\n",
        "    plt.legend()\n",
        "    plt.show()"
      ],
      "metadata": {
        "colab": {
          "base_uri": "https://localhost:8080/",
          "height": 430
        },
        "id": "HUEC_VInvlss",
        "outputId": "bcb2a933-5953-4c12-ba83-1c2b1d185514"
      },
      "execution_count": null,
      "outputs": [
        {
          "output_type": "display_data",
          "data": {
            "text/plain": [
              "<Figure size 640x480 with 1 Axes>"
            ],
            "image/png": "[encoded data removed]"
          },
          "metadata": {}
        }
      ]
    },
    {
      "cell_type": "markdown",
      "source": [
        "Neural Networks are extremely powerful at fitting any curve with enough layers.\n",
        "\n",
        "That is why they are often refered to as universal approximators.\n",
        "\n",
        "Almost all recent research in AI/deep learning is based on neural nets.\n"
      ],
      "metadata": {
        "id": "7sW0lLVVwJP0"
      }
    },
    {
      "cell_type": "markdown",
      "source": [
        "### For you to try:\n",
        "\n",
        "What happens with more layers?\n",
        "\n",
        "What happens if you change the ReLU to other non-linear functions? Some common ones to use are Sigmoid, TanH, Leaky ReLU."
      ],
      "metadata": {
        "id": "hP4tSeGZsXiB"
      }
    },
    {
      "cell_type": "markdown",
      "source": [
        "Let's see the power of neural nets by playing a fun game:\n",
        "\n",
        "https://playground.tensorflow.org/\n",
        "\n"
      ],
      "metadata": {
        "id": "4H4w2OLvsGzG"
      }
    },
    {
      "cell_type": "markdown",
      "source": [
        "### More resources on neural networks:\n",
        "\n",
        "- https://www.youtube.com/watch?v=aircAruvnKk - 3Blue 1Brown on neural nets\n",
        "- Intuition behind why neural nets are so powerful because they hierarchically represent concpets in the layers: https://www.youtube.com/watch?v=hoGvcDfks3w\n",
        "- Math behind how neural networks optimize the cost function with multiple layers: https://youtu.be/MfIjxPh6Pys?list=PLoROMvodv4rMiGQp3WXShtMGgzqpfVfbU"
      ],
      "metadata": {
        "id": "Un-7F76iwpre"
      }
    },
    {
      "cell_type": "markdown",
      "source": [
        "Now we are going to be working on some real world datasets and you will be implementing your own Neural Networks"
      ],
      "metadata": {
        "id": "aHh-t6vk9_hU"
      }
    },
    {
      "cell_type": "code",
      "source": [
        "device = torch.device(\"cuda:0\" if torch.cuda.is_available() else \"cpu\"); print(device)\n"
      ],
      "metadata": {
        "id": "uyLNAvqzwo2u",
        "colab": {
          "base_uri": "https://localhost:8080/"
        },
        "outputId": "0d909b5d-87b9-4192-f7c4-f63d99d5fa4f"
      },
      "execution_count": null,
      "outputs": [
        {
          "output_type": "stream",
          "name": "stdout",
          "text": [
            "cuda:0\n"
          ]
        }
      ]
    },
    {
      "cell_type": "code",
      "source": [
        "\n",
        "import torch\n",
        "from torch.utils.data import Dataset\n",
        "from torchvision import datasets\n",
        "import torchvision.transforms as transforms\n",
        "import numpy as np\n",
        "import matplotlib.pyplot as plt\n",
        "torch.manual_seed(42)"
      ],
      "metadata": {
        "colab": {
          "base_uri": "https://localhost:8080/"
        },
        "id": "0gaZ5i41NoTY",
        "outputId": "40909fa3-c529-4127-ecdd-667f13737644"
      },
      "execution_count": null,
      "outputs": [
        {
          "output_type": "execute_result",
          "data": {
            "text/plain": [
              "<torch._C.Generator at 0x7e7bea390f10>"
            ]
          },
          "metadata": {},
          "execution_count": 14
        }
      ]
    },
    {
      "cell_type": "markdown",
      "source": [
        "### It might be useful to use this guide for how to train your model https://pytorch.org/tutorials/beginner/introyt/trainingyt.html"
      ],
      "metadata": {
        "id": "e3fFsB-bBW1m"
      }
    },
    {
      "cell_type": "code",
      "source": [
        "import torch\n",
        "import torch.nn as nn\n",
        "import torch.optim as optim\n",
        "from torch.utils.data import DataLoader, TensorDataset\n",
        "import pandas as pd\n",
        "from sklearn.model_selection import train_test_split\n",
        "from sklearn.preprocessing import StandardScaler\n",
        "from sklearn.datasets import fetch_california_housing\n",
        "from sklearn.model_selection import train_test_split\n",
        "import numpy as np\n",
        "\n",
        "# Load your dataset\n",
        "housing = fetch_california_housing()\n",
        "X, y = housing.data, housing.target\n",
        "\n",
        "# Split into training and testing sets\n",
        "X_train, X_test, y_train, y_test = train_test_split(X, y, test_size=0.2, random_state=42)\n",
        "\n",
        "# Standardize your data using the standardscaler we have done previously in lab\n",
        "scaler =\n",
        "# Fit and transform your X_train data\n",
        "X_train = scaler.\n",
        "# Transform your X_test data\n",
        "X_test = scaler.\n",
        "\n",
        "# Convert to PyTorch tensors\n",
        "X_train_tensor = torch.tensor(X_train, dtype=torch.float32)\n",
        "y_train_tensor = torch.tensor(y_train, dtype=torch.float32).reshape(-1, 1)\n",
        "X_test_tensor = torch.tensor(X_test, dtype=torch.float32)\n",
        "y_test_tensor = torch.tensor(y_test, dtype=torch.float32).reshape(-1, 1)\n",
        "\n",
        "# Create DataLoader\n",
        "train_dataset = TensorDataset(X_train_tensor, y_train_tensor)\n",
        "train_loader = DataLoader(train_dataset, batch_size=32)\n",
        "\n",
        "# Define the neural network model\n",
        "class Net(nn.Module):\n",
        "    def __init__(self, input_size):\n",
        "        super(Net, self).__init__()\n",
        "        # Define a Linear network with an input size of X_train.shape[1] and output size of 64\n",
        "        self.fc1 = nn.\n",
        "        # Define a relu layer\n",
        "        self.relu_1 = nn.\n",
        "        #Define a Linear network with an input size of 64 and an output size of 32\n",
        "        self.fc2 = nn.\n",
        "        # Define a relu layer\n",
        "        self.relu_2 = nn.\n",
        "        #Define a Linear network with an input size of 32 and an output size of 1\n",
        "        self.fc3 = nn.\n",
        "\n",
        "    def forward(self, x):\n",
        "        #Call the first fully connected layer on x\n",
        "        out = self.\n",
        "        #Call the first relu layer fully connected layer on out\n",
        "        out = self.\n",
        "        #Call the second fully connected layer on out\n",
        "        out = self.\n",
        "        #Call the second relu layer fully connected layer on out\n",
        "        out = self.\n",
        "        #Call the last fully connected layer on out\n",
        "        out = self.\n",
        "        return out\n",
        "\n",
        "# Create the model\n",
        "input_size = X_train.shape[1]\n",
        "model = Net(input_size)\n",
        "\n",
        "# Define MSE loss function and optimizer\n",
        "criterion = nn.\n",
        "optimizer = optim.Adam(model.parameters(), lr=0.001)\n",
        "\n",
        "# Train the model for 100 epochs\n",
        "epochs =\n",
        "for epoch in range(epochs):\n",
        "    avg_loss = []\n",
        "    for batch_idx, (data, target) in enumerate(train_loader):\n",
        "        #Using the setup we had previously, first we zero your gradients for every batch!\n",
        "\n",
        "        # Make predictions for this batch\n",
        "        output =\n",
        "        # Compute the loss and its gradients\n",
        "        train_loss =\n",
        "\n",
        "        avg_loss.append(train_loss.item())\n",
        "        # Adjust learning weights\n",
        "\n",
        "    if epoch%10 == 0:\n",
        "      print('Average train loss for ' + str(epoch) + ' epoch: ' + str(np.average(avg_loss)))\n",
        "\n",
        "# Evaluate the model\n",
        "model.eval()\n",
        "with torch.no_grad():\n",
        "    # Perform predictions on your X_test_tensor using your model\n",
        "    y_pred =\n",
        "    # Calculate the loss of your model by using the criterion with the y_pred and y_test_tensor\n",
        "    test_loss =\n",
        "    print(f'Test loss: {test_loss.item()}')"
      ],
      "metadata": {
        "colab": {
          "base_uri": "https://localhost:8080/"
        },
        "id": "mRql5X0pNs3o",
        "outputId": "0b590ddc-9cbc-4237-be0d-dc17113ce8ae"
      },
      "execution_count": null,
      "outputs": [
        {
          "output_type": "stream",
          "name": "stdout",
          "text": [
            "Average train loss for 0 epoch: 1.0279164184606815\n",
            "Average train loss for 10 epoch: 0.30398907099467837\n",
            "Average train loss for 20 epoch: 0.281926035823286\n",
            "Average train loss for 30 epoch: 0.27009939672353195\n",
            "Average train loss for 40 epoch: 0.2612120160731927\n",
            "Average train loss for 50 epoch: 0.25500254763304725\n",
            "Average train loss for 60 epoch: 0.25023854069065216\n",
            "Average train loss for 70 epoch: 0.24716235824333604\n",
            "Average train loss for 80 epoch: 0.24249355790977792\n",
            "Average train loss for 90 epoch: 0.24003111397804217\n",
            "Test loss: 0.26872146129608154\n"
          ]
        }
      ]
    },
    {
      "cell_type": "code",
      "source": [
        "from sklearn.datasets import load_breast_cancer"
      ],
      "metadata": {
        "id": "ic3hTUdE0m_R"
      },
      "execution_count": null,
      "outputs": []
    },
    {
      "cell_type": "code",
      "source": [
        "breast_cancer = load_breast_cancer()\n",
        "breast_cancer"
      ],
      "metadata": {
        "colab": {
          "base_uri": "https://localhost:8080/"
        },
        "id": "4sQSmSeU0oko",
        "outputId": "c2e9765b-5ea8-4599-b4e9-c1692614ba54"
      },
      "execution_count": null,
      "outputs": [
        {
          "output_type": "execute_result",
          "data": {
            "text/plain": [
              "{'data': array([[1.799e+01, 1.038e+01, 1.228e+02, ..., 2.654e-01, 4.601e-01,\n",
              "         1.189e-01],\n",
              "        [2.057e+01, 1.777e+01, 1.329e+02, ..., 1.860e-01, 2.750e-01,\n",
              "         8.902e-02],\n",
              "        [1.969e+01, 2.125e+01, 1.300e+02, ..., 2.430e-01, 3.613e-01,\n",
              "         8.758e-02],\n",
              "        ...,\n",
              "        [1.660e+01, 2.808e+01, 1.083e+02, ..., 1.418e-01, 2.218e-01,\n",
              "         7.820e-02],\n",
              "        [2.060e+01, 2.933e+01, 1.401e+02, ..., 2.650e-01, 4.087e-01,\n",
              "         1.240e-01],\n",
              "        [7.760e+00, 2.454e+01, 4.792e+01, ..., 0.000e+00, 2.871e-01,\n",
              "         7.039e-02]]),\n",
              " 'target': array([0, 0, 0, 0, 0, 0, 0, 0, 0, 0, 0, 0, 0, 0, 0, 0, 0, 0, 0, 1, 1, 1,\n",
              "        0, 0, 0, 0, 0, 0, 0, 0, 0, 0, 0, 0, 0, 0, 0, 1, 0, 0, 0, 0, 0, 0,\n",
              "        0, 0, 1, 0, 1, 1, 1, 1, 1, 0, 0, 1, 0, 0, 1, 1, 1, 1, 0, 1, 0, 0,\n",
              "        1, 1, 1, 1, 0, 1, 0, 0, 1, 0, 1, 0, 0, 1, 1, 1, 0, 0, 1, 0, 0, 0,\n",
              "        1, 1, 1, 0, 1, 1, 0, 0, 1, 1, 1, 0, 0, 1, 1, 1, 1, 0, 1, 1, 0, 1,\n",
              "        1, 1, 1, 1, 1, 1, 1, 0, 0, 0, 1, 0, 0, 1, 1, 1, 0, 0, 1, 0, 1, 0,\n",
              "        0, 1, 0, 0, 1, 1, 0, 1, 1, 0, 1, 1, 1, 1, 0, 1, 1, 1, 1, 1, 1, 1,\n",
              "        1, 1, 0, 1, 1, 1, 1, 0, 0, 1, 0, 1, 1, 0, 0, 1, 1, 0, 0, 1, 1, 1,\n",
              "        1, 0, 1, 1, 0, 0, 0, 1, 0, 1, 0, 1, 1, 1, 0, 1, 1, 0, 0, 1, 0, 0,\n",
              "        0, 0, 1, 0, 0, 0, 1, 0, 1, 0, 1, 1, 0, 1, 0, 0, 0, 0, 1, 1, 0, 0,\n",
              "        1, 1, 1, 0, 1, 1, 1, 1, 1, 0, 0, 1, 1, 0, 1, 1, 0, 0, 1, 0, 1, 1,\n",
              "        1, 1, 0, 1, 1, 1, 1, 1, 0, 1, 0, 0, 0, 0, 0, 0, 0, 0, 0, 0, 0, 0,\n",
              "        0, 0, 1, 1, 1, 1, 1, 1, 0, 1, 0, 1, 1, 0, 1, 1, 0, 1, 0, 0, 1, 1,\n",
              "        1, 1, 1, 1, 1, 1, 1, 1, 1, 1, 1, 0, 1, 1, 0, 1, 0, 1, 1, 1, 1, 1,\n",
              "        1, 1, 1, 1, 1, 1, 1, 1, 1, 0, 1, 1, 1, 0, 1, 0, 1, 1, 1, 1, 0, 0,\n",
              "        0, 1, 1, 1, 1, 0, 1, 0, 1, 0, 1, 1, 1, 0, 1, 1, 1, 1, 1, 1, 1, 0,\n",
              "        0, 0, 1, 1, 1, 1, 1, 1, 1, 1, 1, 1, 1, 0, 0, 1, 0, 0, 0, 1, 0, 0,\n",
              "        1, 1, 1, 1, 1, 0, 1, 1, 1, 1, 1, 0, 1, 1, 1, 0, 1, 1, 0, 0, 1, 1,\n",
              "        1, 1, 1, 1, 0, 1, 1, 1, 1, 1, 1, 1, 0, 1, 1, 1, 1, 1, 0, 1, 1, 0,\n",
              "        1, 1, 1, 1, 1, 1, 1, 1, 1, 1, 1, 1, 0, 1, 0, 0, 1, 0, 1, 1, 1, 1,\n",
              "        1, 0, 1, 1, 0, 1, 0, 1, 1, 0, 1, 0, 1, 1, 1, 1, 1, 1, 1, 1, 0, 0,\n",
              "        1, 1, 1, 1, 1, 1, 0, 1, 1, 1, 1, 1, 1, 1, 1, 1, 1, 0, 1, 1, 1, 1,\n",
              "        1, 1, 1, 0, 1, 0, 1, 1, 0, 1, 1, 1, 1, 1, 0, 0, 1, 0, 1, 0, 1, 1,\n",
              "        1, 1, 1, 0, 1, 1, 0, 1, 0, 1, 0, 0, 1, 1, 1, 0, 1, 1, 1, 1, 1, 1,\n",
              "        1, 1, 1, 1, 1, 0, 1, 0, 0, 1, 1, 1, 1, 1, 1, 1, 1, 1, 1, 1, 1, 1,\n",
              "        1, 1, 1, 1, 1, 1, 1, 1, 1, 1, 1, 1, 0, 0, 0, 0, 0, 0, 1]),\n",
              " 'frame': None,\n",
              " 'target_names': array(['malignant', 'benign'], dtype='<U9'),\n",
              " 'DESCR': '.. _breast_cancer_dataset:\\n\\nBreast cancer wisconsin (diagnostic) dataset\\n--------------------------------------------\\n\\n**Data Set Characteristics:**\\n\\n:Number of Instances: 569\\n\\n:Number of Attributes: 30 numeric, predictive attributes and the class\\n\\n:Attribute Information:\\n    - radius (mean of distances from center to points on the perimeter)\\n    - texture (standard deviation of gray-scale values)\\n    - perimeter\\n    - area\\n    - smoothness (local variation in radius lengths)\\n    - compactness (perimeter^2 / area - 1.0)\\n    - concavity (severity of concave portions of the contour)\\n    - concave points (number of concave portions of the contour)\\n    - symmetry\\n    - fractal dimension (\"coastline approximation\" - 1)\\n\\n    The mean, standard error, and \"worst\" or largest (mean of the three\\n    worst/largest values) of these features were computed for each image,\\n    resulting in 30 features.  For instance, field 0 is Mean Radius, field\\n    10 is Radius SE, field 20 is Worst Radius.\\n\\n    - class:\\n            - WDBC-Malignant\\n            - WDBC-Benign\\n\\n:Summary Statistics:\\n\\n===================================== ====== ======\\n                                        Min    Max\\n===================================== ====== ======\\nradius (mean):                        6.981  28.11\\ntexture (mean):                       9.71   39.28\\nperimeter (mean):                     43.79  188.5\\narea (mean):                          143.5  2501.0\\nsmoothness (mean):                    0.053  0.163\\ncompactness (mean):                   0.019  0.345\\nconcavity (mean):                     0.0    0.427\\nconcave points (mean):                0.0    0.201\\nsymmetry (mean):                      0.106  0.304\\nfractal dimension (mean):             0.05   0.097\\nradius (standard error):              0.112  2.873\\ntexture (standard error):             0.36   4.885\\nperimeter (standard error):           0.757  21.98\\narea (standard error):                6.802  542.2\\nsmoothness (standard error):          0.002  0.031\\ncompactness (standard error):         0.002  0.135\\nconcavity (standard error):           0.0    0.396\\nconcave points (standard error):      0.0    0.053\\nsymmetry (standard error):            0.008  0.079\\nfractal dimension (standard error):   0.001  0.03\\nradius (worst):                       7.93   36.04\\ntexture (worst):                      12.02  49.54\\nperimeter (worst):                    50.41  251.2\\narea (worst):                         185.2  4254.0\\nsmoothness (worst):                   0.071  0.223\\ncompactness (worst):                  0.027  1.058\\nconcavity (worst):                    0.0    1.252\\nconcave points (worst):               0.0    0.291\\nsymmetry (worst):                     0.156  0.664\\nfractal dimension (worst):            0.055  0.208\\n===================================== ====== ======\\n\\n:Missing Attribute Values: None\\n\\n:Class Distribution: 212 - Malignant, 357 - Benign\\n\\n:Creator:  Dr. William H. Wolberg, W. Nick Street, Olvi L. Mangasarian\\n\\n:Donor: Nick Street\\n\\n:Date: November, 1995\\n\\nThis is a copy of UCI ML Breast Cancer Wisconsin (Diagnostic) datasets.\\nhttps://goo.gl/U2Uwz2\\n\\nFeatures are computed from a digitized image of a fine needle\\naspirate (FNA) of a breast mass.  They describe\\ncharacteristics of the cell nuclei present in the image.\\n\\nSeparating plane described above was obtained using\\nMultisurface Method-Tree (MSM-T) [K. P. Bennett, \"Decision Tree\\nConstruction Via Linear Programming.\" Proceedings of the 4th\\nMidwest Artificial Intelligence and Cognitive Science Society,\\npp. 97-101, 1992], a classification method which uses linear\\nprogramming to construct a decision tree.  Relevant features\\nwere selected using an exhaustive search in the space of 1-4\\nfeatures and 1-3 separating planes.\\n\\nThe actual linear program used to obtain the separating plane\\nin the 3-dimensional space is that described in:\\n[K. P. Bennett and O. L. Mangasarian: \"Robust Linear\\nProgramming Discrimination of Two Linearly Inseparable Sets\",\\nOptimization Methods and Software 1, 1992, 23-34].\\n\\nThis database is also available through the UW CS ftp server:\\n\\nftp ftp.cs.wisc.edu\\ncd math-prog/cpo-dataset/machine-learn/WDBC/\\n\\n.. dropdown:: References\\n\\n  - W.N. Street, W.H. Wolberg and O.L. Mangasarian. Nuclear feature extraction\\n    for breast tumor diagnosis. IS&T/SPIE 1993 International Symposium on\\n    Electronic Imaging: Science and Technology, volume 1905, pages 861-870,\\n    San Jose, CA, 1993.\\n  - O.L. Mangasarian, W.N. Street and W.H. Wolberg. Breast cancer diagnosis and\\n    prognosis via linear programming. Operations Research, 43(4), pages 570-577,\\n    July-August 1995.\\n  - W.H. Wolberg, W.N. Street, and O.L. Mangasarian. Machine learning techniques\\n    to diagnose breast cancer from fine-needle aspirates. Cancer Letters 77 (1994)\\n    163-171.\\n',\n",
              " 'feature_names': array(['mean radius', 'mean texture', 'mean perimeter', 'mean area',\n",
              "        'mean smoothness', 'mean compactness', 'mean concavity',\n",
              "        'mean concave points', 'mean symmetry', 'mean fractal dimension',\n",
              "        'radius error', 'texture error', 'perimeter error', 'area error',\n",
              "        'smoothness error', 'compactness error', 'concavity error',\n",
              "        'concave points error', 'symmetry error',\n",
              "        'fractal dimension error', 'worst radius', 'worst texture',\n",
              "        'worst perimeter', 'worst area', 'worst smoothness',\n",
              "        'worst compactness', 'worst concavity', 'worst concave points',\n",
              "        'worst symmetry', 'worst fractal dimension'], dtype='<U23'),\n",
              " 'filename': 'breast_cancer.csv',\n",
              " 'data_module': 'sklearn.datasets.data'}"
            ]
          },
          "metadata": {},
          "execution_count": 17
        }
      ]
    },
    {
      "cell_type": "code",
      "source": [
        "# Now we will split the data into the independent and independent variable\n",
        "X = breast_cancer.data\n",
        "y = breast_cancer.target"
      ],
      "metadata": {
        "id": "CYF7kdWT0rfB"
      },
      "execution_count": null,
      "outputs": []
    },
    {
      "cell_type": "code",
      "source": [
        "print(X.shape)\n",
        "print(y.shape)"
      ],
      "metadata": {
        "colab": {
          "base_uri": "https://localhost:8080/"
        },
        "id": "33LfdfDg6X_h",
        "outputId": "9461c091-dc63-4248-cab1-85ad7f07ee0b"
      },
      "execution_count": null,
      "outputs": [
        {
          "output_type": "stream",
          "name": "stdout",
          "text": [
            "(569, 30)\n",
            "(569,)\n"
          ]
        }
      ]
    },
    {
      "cell_type": "code",
      "source": [
        "print(y[:5])\n",
        "print(np.unique(y))"
      ],
      "metadata": {
        "colab": {
          "base_uri": "https://localhost:8080/"
        },
        "id": "wTU0-VpE3doR",
        "outputId": "37ebf991-af84-495f-d409-97e5375c0c50"
      },
      "execution_count": null,
      "outputs": [
        {
          "output_type": "stream",
          "name": "stdout",
          "text": [
            "[0 0 0 0 0]\n",
            "[0 1]\n"
          ]
        }
      ]
    },
    {
      "cell_type": "code",
      "source": [
        "# Split into training and testing sets\n",
        "X_train, X_test, y_train, y_test = train_test_split(X, y, test_size=0.3, random_state=42)\n",
        "\n",
        "\n",
        "\n",
        "\n",
        "# Standardize your data using the standardscaler we have done previously in lab\n",
        "scaler =\n",
        "# Fit and transform your X_train data\n",
        "X_train = scaler.\n",
        "# Transform your X_test data\n",
        "X_test = scaler.\n",
        "\n",
        "# Convert to PyTorch tensors\n",
        "X_train_tensor = torch.tensor(X_train, dtype=torch.float32)\n",
        "y_train_tensor = torch.tensor(y_train, dtype=torch.float32).reshape(-1, 1)\n",
        "X_test_tensor = torch.tensor(X_test, dtype=torch.float32)\n",
        "y_test_tensor = torch.tensor(y_test, dtype=torch.float32).reshape(-1, 1)\n",
        "\n",
        "# Create DataLoader\n",
        "train_dataset = TensorDataset(X_train_tensor, y_train_tensor)\n",
        "train_loader = DataLoader(train_dataset, batch_size=32)\n",
        "\n",
        "# Define the neural network model\n",
        "class Net(nn.Module):\n",
        "    def __init__(self, input_size):\n",
        "        super(Net, self).__init__()\n",
        "        # Define a Linear network with an input size of X_train.shape[1] and output size of 64\n",
        "        self.fc1 = nn.\n",
        "        # Define a relu layer\n",
        "        self.relu_1 = nn.\n",
        "        #Define a Linear network with an input size of 64 and an output size of 32\n",
        "        self.fc2 = nn.\n",
        "        # Define a relu layer\n",
        "        self.relu_2 = nn.\n",
        "        #Define a Linear network with an input size of 32 and an output size of 1\n",
        "        self.fc3 = nn.\n",
        "        #Define a final layer that uses the sigmoid function\n",
        "        self.sigmoid = nn.\n",
        "\n",
        "    def forward(self, x):\n",
        "        #Call the first fully connected layer on x\n",
        "        out = self.\n",
        "        #Call the first relu layer fully connected layer on out\n",
        "        out = self.\n",
        "        #Call the second fully connected layer on out\n",
        "        out = self.\n",
        "        #Call the second relu layer fully connected layer on out\n",
        "        out = self.\n",
        "        #Call the last fully connected layer on out\n",
        "        out = self.\n",
        "        #Call the sigmoid layer on out\n",
        "        out = self.\n",
        "        return out\n",
        "\n",
        "# Create the model\n",
        "input_size = X_train.shape[1]\n",
        "model = Net(input_size)\n",
        "\n",
        "# Define loss function and optimizer\n",
        "criterion = nn.  # binary cross entropy\n",
        "optimizer = optim.Adam(model.parameters(), lr=0.001)\n",
        "\n",
        "# Train the model for 100 epochs\n",
        "epochs =\n",
        "for epoch in range(epochs):\n",
        "    avg_loss = []\n",
        "    for batch_idx, (data, target) in enumerate(train_loader):\n",
        "        #Using the setup we had previously, first we zero your gradients for every batch!\n",
        "\n",
        "        # Make predictions for this batch\n",
        "        output =\n",
        "        # Compute the loss and its gradients\n",
        "        train_loss =\n",
        "\n",
        "        avg_loss.append(train_loss.item())\n",
        "        # Adjust learning weights\n",
        "\n",
        "    if epoch%10 == 0:\n",
        "      print('Average train loss for ' + str(epoch) + 'epoch: ' + str(np.average(avg_loss)))\n",
        "\n",
        "# Evaluate the model\n",
        "model.eval()\n",
        "with torch.no_grad():\n",
        "    # Perform predictions on your X_test_tensor using your model\n",
        "    y_pred =\n",
        "    # Calculate the loss of your model by using the criterion with the y_pred and y_test_tensor\n",
        "    print(f'Test loss: {test_loss.item()}')"
      ],
      "metadata": {
        "colab": {
          "base_uri": "https://localhost:8080/"
        },
        "id": "l3EC7XeG0t1x",
        "outputId": "4d74ed1e-2678-49db-f4a2-7c11deff49d4"
      },
      "execution_count": null,
      "outputs": [
        {
          "output_type": "stream",
          "name": "stdout",
          "text": [
            "Average train loss for 0epoch: 0.6931471870495722\n",
            "Average train loss for 10epoch: 0.6931471870495722\n",
            "Average train loss for 20epoch: 0.6931471870495722\n",
            "Average train loss for 30epoch: 0.6931471870495722\n",
            "Average train loss for 40epoch: 0.6931471870495722\n",
            "Average train loss for 50epoch: 0.6931471870495722\n",
            "Average train loss for 60epoch: 0.6931471870495722\n",
            "Average train loss for 70epoch: 0.6931471870495722\n",
            "Average train loss for 80epoch: 0.6931471870495722\n",
            "Average train loss for 90epoch: 0.6931471870495722\n",
            "Test loss: 0.6931471824645996\n"
          ]
        }
      ]
    },
    {
      "cell_type": "code",
      "source": [
        "with torch.no_grad():\n",
        "    model.eval()\n",
        "    outputs = model(X_test_tensor)\n",
        "    _, predicted = torch.max(outputs.data, 1)\n",
        "    accuracy = (predicted == y_test_tensor).sum().item() / y_test_tensor.size(0)\n",
        "    print(f\"Test Accuracy: {accuracy}\")"
      ],
      "metadata": {
        "colab": {
          "base_uri": "https://localhost:8080/"
        },
        "id": "DG_6jX-C6FoB",
        "outputId": "373394e8-3550-4912-93b9-00a6882a1763"
      },
      "execution_count": null,
      "outputs": [
        {
          "output_type": "stream",
          "name": "stdout",
          "text": [
            "Test Accuracy: 63.0\n"
          ]
        }
      ]
    },
    {
      "cell_type": "code",
      "source": [
        "def imshow(sample_element, shape = (28, 28)):\n",
        "    plt.imshow(sample_element[0].numpy().reshape(shape), cmap='gray')\n",
        "    plt.title('Label = ' + str(sample_element[1]))\n",
        "    plt.show()"
      ],
      "metadata": {
        "id": "llgvm6yMNrUl"
      },
      "execution_count": null,
      "outputs": []
    },
    {
      "cell_type": "code",
      "source": [
        "class Mnist_MLP(nn.Module):\n",
        "    def __init__(self, input_size, hidden_size, output_size):\n",
        "        super(Mnist_MLP, self).__init__()\n",
        "        # First create a flatten layer\n",
        "        self.flatten = nn.\n",
        "        # Define a Linear network with an input size of 784 and output size of 128\n",
        "        self.fc1 = nn.\n",
        "        # Define a relu layer\n",
        "        self.relu1 = nn.\n",
        "        # Define a Linear network with an input size of 128 and output size of 64\n",
        "        self.fc2 = nn.\n",
        "        # Define a relu layer\n",
        "        self.relu2 = nn.\n",
        "        # Define a Linear network with an input size of 64 and output size of 10\n",
        "        self.fc3 = nn.\n",
        "\n",
        "    def forward(self, x):\n",
        "        #Call the flatten layer on x\n",
        "        out = self.\n",
        "        #Call the first fully connect layer on x\n",
        "        out = self.\n",
        "        #Call the first relu layer fully connected layer on out\n",
        "        out = self.\n",
        "        #Call the second fully connect layer on x\n",
        "        out = self.\n",
        "        #Call the second relu layer fully connected layer on out\n",
        "        out = self.\n",
        "        #Call the third fully connect layer on x\n",
        "        out = self.\n",
        "        return out\n",
        "\n",
        "# Set hyperparameters\n",
        "input_size = 784\n",
        "hidden_size = 128\n",
        "output_size = 10\n",
        "learning_rate = 0.01\n",
        "num_epochs = 1000\n",
        "\n",
        "# Initialize the model\n",
        "model = Mnist_MLP(input_size, hidden_size, output_size)\n",
        "# Define cross entropy loss function\n",
        "criterion = nn.\n",
        "optimizer = torch.optim.SGD(model.parameters(), lr=3e-3, momentum=0.9)"
      ],
      "metadata": {
        "id": "XDWkwy8m-Yzd"
      },
      "execution_count": null,
      "outputs": []
    },
    {
      "cell_type": "code",
      "source": [
        "# Load MNIST dataset\n",
        "train_dataset = datasets.MNIST(root='./data', train=True, download=True, transform=transforms.ToTensor())\n",
        "test_dataset = datasets.MNIST(root='./data', train=False, transform=transforms.ToTensor())\n",
        "\n",
        "# Split the training dataset into training and validation sets\n",
        "train_size = int(0.8 * len(train_dataset))\n",
        "val_size = len(train_dataset) - train_size\n",
        "train_dataset, val_dataset = torch.utils.data.random_split(train_dataset, [train_size, val_size])\n",
        "\n",
        "# Create data loaders\n",
        "train_loader = torch.utils.data.DataLoader(train_dataset, batch_size=64)\n",
        "val_loader = torch.utils.data.DataLoader(val_dataset, batch_size=64)\n",
        "test_loader = torch.utils.data.DataLoader(test_dataset, batch_size=64)\n"
      ],
      "metadata": {
        "id": "pxy5TwyGCcux"
      },
      "execution_count": null,
      "outputs": []
    },
    {
      "cell_type": "code",
      "source": [
        "imshow(train_dataset[0])"
      ],
      "metadata": {
        "colab": {
          "base_uri": "https://localhost:8080/",
          "height": 452
        },
        "id": "D2Ln8fLgsiK1",
        "outputId": "4f7a709b-1f43-4603-d6a0-b74157b4dde9"
      },
      "execution_count": null,
      "outputs": [
        {
          "output_type": "display_data",
          "data": {
            "text/plain": [
              "<Figure size 640x480 with 1 Axes>"
            ],
            "image/png": "[encoded data removed]"
          },
          "metadata": {}
        }
      ]
    },
    {
      "cell_type": "code",
      "source": [
        "\n",
        "\n",
        "# Training loop\n",
        "for epoch in range(10):\n",
        "    for i, (data, target) in enumerate(train_loader):\n",
        "        #Using the setup we had previously, first we zero your gradients for every batch!\n",
        "\n",
        "         # Make predictions for this batch\n",
        "        output =\n",
        "        # Compute the loss and its gradients\n",
        "        loss =\n",
        "\n",
        "        # Adjust learning weights\n",
        "\n",
        "\n",
        "    # Validation loop\n",
        "    model.eval()\n",
        "    val_loss = 0\n",
        "    with torch.no_grad():\n",
        "        for data, target in val_loader:\n",
        "            output = model(data)\n",
        "            val_loss += criterion(output, target).item()\n",
        "\n",
        "    print(f'Epoch {epoch}, Validation Loss: {val_loss / len(val_loader)}')\n",
        "\n",
        "# Testing loop\n",
        "model.eval()\n",
        "test_loss = 0\n",
        "correct = 0\n",
        "with torch.no_grad():\n",
        "    for data, target in test_loader:\n",
        "        # Perform predictions on your data using your model\n",
        "        output = model(data)\n",
        "        test_loss += criterion(output, target).item()\n",
        "        pred = output.argmax(dim=1, keepdim=True)\n",
        "        correct += pred.eq(target.view_as(pred)).sum().item()\n",
        "\n",
        "print(f'Test Loss: {test_loss / len(test_loader)}, Accuracy: {100. * correct / len(test_loader.dataset)}%')"
      ],
      "metadata": {
        "colab": {
          "base_uri": "https://localhost:8080/"
        },
        "id": "7xllatwoAWG8",
        "outputId": "ee94cdc5-593b-4286-f61b-fa5f839ccfe8"
      },
      "execution_count": null,
      "outputs": [
        {
          "output_type": "stream",
          "name": "stdout",
          "text": [
            "Epoch 0, Validation Loss: 0.42067226220635656\n",
            "Epoch 1, Validation Loss: 0.3164622269253782\n",
            "Epoch 2, Validation Loss: 0.27144705377360606\n",
            "Epoch 3, Validation Loss: 0.23883758679507894\n",
            "Epoch 4, Validation Loss: 0.21361755781826822\n",
            "Epoch 5, Validation Loss: 0.1932653904040443\n",
            "Epoch 6, Validation Loss: 0.17655839931536862\n",
            "Epoch 7, Validation Loss: 0.16249206596787305\n",
            "Epoch 8, Validation Loss: 0.15126712194227793\n",
            "Epoch 9, Validation Loss: 0.14184550489199924\n",
            "Test Loss: 0.13506298438367095, Accuracy: 95.92%\n"
          ]
        }
      ]
    },
    {
      "cell_type": "code",
      "source": [
        "# Load MNIST dataset\n",
        "train_dataset = datasets.FashionMNIST(root='./data', train=True, download=True, transform=transforms.ToTensor())\n",
        "test_dataset = datasets.FashionMNIST(root='./data', train=False, transform=transforms.ToTensor())\n",
        "\n",
        "# Split the training dataset into training and validation sets\n",
        "train_size = int(0.8 * len(train_dataset))\n",
        "val_size = len(train_dataset) - train_size\n",
        "train_dataset, val_dataset = torch.utils.data.random_split(train_dataset, [train_size, val_size])\n",
        "\n",
        "# Create data loaders\n",
        "train_loader = torch.utils.data.DataLoader(train_dataset, batch_size=64)\n",
        "val_loader = torch.utils.data.DataLoader(val_dataset, batch_size=64)\n",
        "test_loader = torch.utils.data.DataLoader(test_dataset, batch_size=64)\n",
        "\n",
        "# Set hyperparameters\n",
        "input_size = 784\n",
        "hidden_size = 128\n",
        "output_size = 10\n",
        "learning_rate = 0.01\n",
        "num_epochs = 1000\n",
        "\n",
        "# Initialize the model, loss function, and optimizer\n",
        "model = Mnist_MLP(input_size, hidden_size, output_size)\n",
        "criterion = nn.CrossEntropyLoss()\n",
        "optimizer = torch.optim.SGD(model.parameters(), lr=3e-3, momentum=0.9)"
      ],
      "metadata": {
        "id": "mVL2Wj6UDcrT"
      },
      "execution_count": null,
      "outputs": []
    },
    {
      "cell_type": "code",
      "source": [
        "imshow(train_dataset[4])"
      ],
      "metadata": {
        "colab": {
          "base_uri": "https://localhost:8080/",
          "height": 452
        },
        "id": "3-ltdXHSDp0c",
        "outputId": "56bdb845-f01e-4b52-806b-26ddb081c6be"
      },
      "execution_count": null,
      "outputs": [
        {
          "output_type": "display_data",
          "data": {
            "text/plain": [
              "<Figure size 640x480 with 1 Axes>"
            ],
            "image/png": "[encoded data removed]"
          },
          "metadata": {}
        }
      ]
    },
    {
      "cell_type": "code",
      "source": [
        "# Training loop\n",
        "for epoch in range(10):\n",
        "    for i, (data, target) in enumerate(train_loader):\n",
        "        #Using the setup we had previously, first we zero your gradients for every batch!\n",
        "\n",
        "         # Make predictions for this batch\n",
        "        output =\n",
        "        # Compute the loss and its gradients\n",
        "        loss =\n",
        "\n",
        "        # Adjust learning weights\n",
        "\n",
        "    # Validation loop\n",
        "    model.eval()\n",
        "    val_loss = 0\n",
        "    with torch.no_grad():\n",
        "        for data, target in val_loader:\n",
        "            output = model(data)\n",
        "            val_loss += criterion(output, target).item()\n",
        "\n",
        "    print(f'Epoch {epoch}, Validation Loss: {val_loss / len(val_loader)}')\n",
        "\n",
        "# Testing loop\n",
        "model.eval()\n",
        "test_loss = 0\n",
        "correct = 0\n",
        "with torch.no_grad():\n",
        "    for data, target in test_loader:\n",
        "        output = model(data)\n",
        "        test_loss += criterion(output, target).item()\n",
        "        pred = output.argmax(dim=1, keepdim=True)\n",
        "        correct += pred.eq(target.view_as(pred)).sum().item()\n",
        "\n",
        "print(f'Test Loss: {test_loss / len(test_loader)}, Accuracy: {100. * correct / len(test_loader.dataset)}%')"
      ],
      "metadata": {
        "colab": {
          "base_uri": "https://localhost:8080/"
        },
        "id": "T511bOv3D-DZ",
        "outputId": "57cf609a-b493-4691-aebf-1c57a3c5c00e"
      },
      "execution_count": null,
      "outputs": [
        {
          "output_type": "stream",
          "name": "stdout",
          "text": [
            "Epoch 0, Validation Loss: 0.5272308504010769\n",
            "Epoch 1, Validation Loss: 0.47801057384052176\n",
            "Epoch 2, Validation Loss: 0.4504413702227968\n",
            "Epoch 3, Validation Loss: 0.4285126026482024\n",
            "Epoch 4, Validation Loss: 0.4146554631755707\n",
            "Epoch 5, Validation Loss: 0.402967437388415\n",
            "Epoch 6, Validation Loss: 0.3964853580803313\n",
            "Epoch 7, Validation Loss: 0.3916969451498478\n",
            "Epoch 8, Validation Loss: 0.389188437702808\n",
            "Epoch 9, Validation Loss: 0.38582134147749303\n",
            "Test Loss: 0.39309740560069967, Accuracy: 86.33%\n"
          ]
        }
      ]
    }
  ]
}